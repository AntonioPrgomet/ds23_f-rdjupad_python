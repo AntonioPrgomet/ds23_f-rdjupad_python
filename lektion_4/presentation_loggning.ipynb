{
 "cells": [
  {
   "cell_type": "markdown",
   "metadata": {},
   "source": [
    "# Loggning"
   ]
  },
  {
   "cell_type": "code",
   "execution_count": null,
   "metadata": {},
   "outputs": [],
   "source": [
    "import logging\n",
    "\n",
    "logger = logging.getLogger(__name__)\n",
    "\n",
    "# logging.basicConfig(filename='test_log.txt', level=logging.DEBUG)\n",
    "logging.basicConfig(\n",
    "    filename='test_log.txt', \n",
    "    format='[%(asctime)s][%(levelname)s] %(message)s', \n",
    "    level=logging.WARNING)"
   ]
  },
  {
   "cell_type": "code",
   "execution_count": null,
   "metadata": {},
   "outputs": [],
   "source": [
    "logger.setLevel(logging.CRITICAL)"
   ]
  },
  {
   "cell_type": "code",
   "execution_count": null,
   "metadata": {},
   "outputs": [],
   "source": [
    "logger.debug('Debug')\n",
    "logger.info('Hello')\n",
    "logger.warning('Look out!')\n",
    "logger.critical('Time for a break!')"
   ]
  },
  {
   "cell_type": "code",
   "execution_count": null,
   "metadata": {},
   "outputs": [],
   "source": [
    "'20240904'[6:]"
   ]
  },
  {
   "cell_type": "code",
   "execution_count": null,
   "metadata": {},
   "outputs": [],
   "source": [
    "import datetime\n",
    "import logging\n",
    "import pandas as pd\n",
    "\n",
    "logging.basicConfig(\n",
    "    filename='DataCleaner_log.txt', \n",
    "    format='[%(asctime)s][%(levelname)s] %(message)s', \n",
    "    level=logging.DEBUG)\n",
    "\n",
    "class DataCleaner:\n",
    "    def __init__(self, data) -> None:\n",
    "        self.data = data\n",
    "        self.logger = logging.getLogger(__name__)\n",
    "\n",
    "    def clean_dates(self) -> None:\n",
    "        for row in self.data:\n",
    "            if '-' in row['date']:\n",
    "                try:\n",
    "                    y, m, d = [int(x) for x in row['date'].split('-')]\n",
    "                except Exception as e:\n",
    "                    self.logger.error((e, row['date']))\n",
    "                    new_date = pd.NaT\n",
    "                else:\n",
    "                    new_date = datetime.date(y, m, d)\n",
    "            elif '/' in row['date']:\n",
    "                try:\n",
    "                    m, d, y = [int(x) for x in row['date'].split('/')]\n",
    "                except Exception as e:\n",
    "                    self.logger.error((e, row['date']))\n",
    "                    new_date = pd.NaT\n",
    "                else:\n",
    "                    new_date = datetime.date(2000 + y, m, d)\n",
    "            # Hantera YYYYMMDD/YYMMDD-format!\n",
    "            elif row['date'].isdigit():\n",
    "                if len(row['date']) == 8:\n",
    "                    y = row['date'][:4]\n",
    "                    m = row['date'][4:6]\n",
    "                    d = row['date'][6:]\n",
    "                    y, m, d = [int(x) for x in [y, m, d]]\n",
    "                    new_date = datetime.date(y, m, d)\n",
    "                elif len(row['date']) == 6:\n",
    "                    y = row['date'][:2]\n",
    "                    m = row['date'][2:4]\n",
    "                    d = row['date'][4:]\n",
    "                    y, m, d = [int(x) for x in [y, m, d]]\n",
    "                    new_date = datetime.date(y, m, d)\n",
    "                else:\n",
    "                    self.logger.error('Unsupported number of digits for date %s', row['date'])\n",
    "                    new_date = pd.NaT\n",
    "            else:\n",
    "                self.logger.error('Could not parse date %s', row['date'])\n",
    "                new_date = pd.NaT\n",
    "            row['date'] = new_date\n",
    "\n",
    "    def clean_temps(self):\n",
    "        for row in self.data:\n",
    "            try:\n",
    "                new_temp = float(row['temp'])\n",
    "            except TypeError:  \n",
    "                new_temp = pd.NA\n",
    "            except ValueError:  \n",
    "                new_temp = float(row['temp'].replace(',', '.'))\n",
    "            except Exception as e:\n",
    "                self.logger.error((e, row['temp']))\n",
    "                new_temp = pd.NA\n",
    "\n",
    "            row['temp'] = new_temp\n",
    "\n",
    "    def clean(self):\n",
    "        self.clean_dates()\n",
    "        self.clean_temps()\n",
    "        return self.data\n"
   ]
  },
  {
   "cell_type": "code",
   "execution_count": null,
   "metadata": {},
   "outputs": [],
   "source": [
    "import json\n",
    "\n",
    "data = json.load(open('../lektion_3/data/temps3.json'))\n",
    "\n",
    "dc = DataCleaner(data=data)\n",
    "cleaned_data = dc.clean()"
   ]
  },
  {
   "cell_type": "code",
   "execution_count": null,
   "metadata": {},
   "outputs": [],
   "source": [
    "cleaned_data"
   ]
  },
  {
   "cell_type": "code",
   "execution_count": null,
   "metadata": {},
   "outputs": [],
   "source": []
  }
 ],
 "metadata": {
  "kernelspec": {
   "display_name": "env",
   "language": "python",
   "name": "python3"
  },
  "language_info": {
   "codemirror_mode": {
    "name": "ipython",
    "version": 3
   },
   "file_extension": ".py",
   "mimetype": "text/x-python",
   "name": "python",
   "nbconvert_exporter": "python",
   "pygments_lexer": "ipython3",
   "version": "3.12.4"
  }
 },
 "nbformat": 4,
 "nbformat_minor": 2
}
