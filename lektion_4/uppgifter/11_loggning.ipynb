{
 "cells": [
  {
   "cell_type": "markdown",
   "id": "99fdf965-6382-4144-b08f-30fea759de05",
   "metadata": {},
   "source": [
    "# Uppgifter, Kapitel 11 - Loggning"
   ]
  },
  {
   "cell_type": "markdown",
   "id": "796283db-be36-4d2d-abd2-f8e147f182eb",
   "metadata": {},
   "source": [
    "1. Varför kan loggfiler med information vara viktiga för exempelvis företag och organisationer? "
   ]
  },
  {
   "cell_type": "code",
   "execution_count": null,
   "id": "ae8d83aa-092a-40c1-b328-0a9b45cfa6df",
   "metadata": {},
   "outputs": [],
   "source": []
  },
  {
   "cell_type": "markdown",
   "id": "12f67cf7-2964-46dc-8878-6eac51526fb9",
   "metadata": {},
   "source": [
    "2. Vad menas med att det finns olika nivåer för logg-meddelanden? "
   ]
  },
  {
   "cell_type": "code",
   "execution_count": null,
   "id": "9a0a8d20-eb04-4298-a0e2-887856b868df",
   "metadata": {},
   "outputs": [],
   "source": []
  },
  {
   "cell_type": "markdown",
   "id": "f6f73def-117a-49ef-b902-c777399ed257",
   "metadata": {},
   "source": [
    "3. Skapa ett valfritt program där du också använder dig av logging modulen. "
   ]
  },
  {
   "cell_type": "code",
   "execution_count": null,
   "id": "36385a7c-ff7f-42dd-8273-9a9061a7643e",
   "metadata": {},
   "outputs": [],
   "source": []
  }
 ],
 "metadata": {
  "kernelspec": {
   "display_name": "Python 3 (ipykernel)",
   "language": "python",
   "name": "python3"
  },
  "language_info": {
   "codemirror_mode": {
    "name": "ipython",
    "version": 3
   },
   "file_extension": ".py",
   "mimetype": "text/x-python",
   "name": "python",
   "nbconvert_exporter": "python",
   "pygments_lexer": "ipython3",
   "version": "3.9.18"
  }
 },
 "nbformat": 4,
 "nbformat_minor": 5
}
