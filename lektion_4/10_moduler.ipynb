{
 "cells": [
  {
   "cell_type": "markdown",
   "id": "99fdf965-6382-4144-b08f-30fea759de05",
   "metadata": {},
   "source": [
    "# Uppgifter, Kapitel 10 - Moduler och paket"
   ]
  },
  {
   "cell_type": "markdown",
   "id": "0bcaacd2-e69e-4a2c-85b0-fc1bc83353e2",
   "metadata": {},
   "source": [
    "1. Vad är en modul och hur kan en sådan användas i andra filer? "
   ]
  },
  {
   "cell_type": "code",
   "execution_count": null,
   "id": "628bb385-030f-44c3-81f3-ec742ae523dc",
   "metadata": {},
   "outputs": [],
   "source": []
  },
  {
   "cell_type": "markdown",
   "id": "f68d3418-d82f-4a68-b606-a3f320683979",
   "metadata": {},
   "source": [
    "2. a) Importera modulen \"math\" från \"The Python Standard Library\": https://docs.python.org/3/library/index.html utan att använda aliasing.\n",
    "   \n",
    "   b) Skriv help(math.ceil). Förstår du vad \"ceil()\" funktionen gör?\n",
    "\n",
    "   c) Skriv math.ceil(10.2), vad får du för svar och varför?\n",
    "\n",
    "   d) Skriv math.ceil(9.8), vad får du för svar och varför? "
   ]
  },
  {
   "cell_type": "code",
   "execution_count": null,
   "id": "09dea5fb-7a11-47d2-912f-e07e90de54f5",
   "metadata": {},
   "outputs": [],
   "source": []
  },
  {
   "cell_type": "markdown",
   "id": "d6a8bb81-a567-4a38-8972-1e658fd547fa",
   "metadata": {},
   "source": [
    "3. Bygg en egen modul som till exempel innehåller två funktioner, importera därefter denna modulen i ett annat skript och prova använd de två funktionerna. Notera att modulen du bygger skall skrivas i ett \"vanligt skript\" (en .py fil) och inte i en jupyter notebook fil (.ipynb). Du kan däremot importera modulen (.py filen) i en jupyter notebook (.ipynb fil).\n",
    "  \n",
    "   Om du önskar importera en jupyter notebook (.ipynb fil) till en annan jupyter notebook (.ipynb fil) så kan du kolla igenom följande smidiga paket: https://pypi.org/project/import-ipynb/ ."
   ]
  },
  {
   "cell_type": "code",
   "execution_count": null,
   "id": "9e56e5ea-42f5-4f7b-8aea-fdf8e82f084a",
   "metadata": {},
   "outputs": [],
   "source": []
  }
 ],
 "metadata": {
  "kernelspec": {
   "display_name": "Python 3 (ipykernel)",
   "language": "python",
   "name": "python3"
  },
  "language_info": {
   "codemirror_mode": {
    "name": "ipython",
    "version": 3
   },
   "file_extension": ".py",
   "mimetype": "text/x-python",
   "name": "python",
   "nbconvert_exporter": "python",
   "pygments_lexer": "ipython3",
   "version": "3.9.18"
  }
 },
 "nbformat": 4,
 "nbformat_minor": 5
}
