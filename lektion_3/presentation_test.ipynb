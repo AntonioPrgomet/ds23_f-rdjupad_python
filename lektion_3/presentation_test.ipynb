{
 "cells": [
  {
   "cell_type": "markdown",
   "metadata": {},
   "source": [
    "# Test\n",
    "\n",
    "## `pytest`\n",
    "\n",
    "Tredjepartsbiblioteket `pytest` kan behöva installeras i vårt *environment*."
   ]
  },
  {
   "cell_type": "code",
   "execution_count": null,
   "metadata": {},
   "outputs": [],
   "source": [
    "try:\n",
    "    import pytest\n",
    "except ImportError:\n",
    "    ! pip install pytest  # \"!\" först i en notebook-cell innebär att vi vill köra koden i terminalen"
   ]
  },
  {
   "cell_type": "markdown",
   "metadata": {},
   "source": [
    "`assert` är ett nyckelord som bland annat används vid tester.\n",
    "\n",
    "Om uttrycket som följer ett `assert`-*statement* utvärderas till `False` lyfts ett `AssertionError`. Annars händer ingenting."
   ]
  },
  {
   "cell_type": "code",
   "execution_count": null,
   "metadata": {},
   "outputs": [],
   "source": [
    "assert True"
   ]
  },
  {
   "cell_type": "code",
   "execution_count": null,
   "metadata": {},
   "outputs": [],
   "source": [
    "assert False"
   ]
  },
  {
   "cell_type": "code",
   "execution_count": null,
   "metadata": {},
   "outputs": [],
   "source": [
    "# test.py\n",
    "\n",
    "def add_one(x):\n",
    "    return x + 1\n",
    "\n",
    "def test_add_one():\n",
    "    assert add_one(4) == 5"
   ]
  },
  {
   "cell_type": "code",
   "execution_count": null,
   "metadata": {},
   "outputs": [],
   "source": [
    "! pytest test.py"
   ]
  },
  {
   "cell_type": "markdown",
   "metadata": {},
   "source": [
    "Vi kan skapa en `DataCleaner`-klass som har våra funktioner från förra genomgången som metoder."
   ]
  },
  {
   "cell_type": "code",
   "execution_count": null,
   "metadata": {},
   "outputs": [],
   "source": [
    "# datacleaner.py\n",
    "\n",
    "import datetime\n",
    "import logging\n",
    "import pandas as pd\n",
    "\n",
    "class DataCleaner:\n",
    "    def __init__(self, data) -> None:\n",
    "        self.data = data\n",
    "        self.logger = logging.getLogger(__name__)\n",
    "\n",
    "    def clean_dates(self) -> None:\n",
    "        for row in self.data:\n",
    "            if '-' in row['date']:\n",
    "                try:\n",
    "                    y, m, d = [int(x) for x in row['date'].split('-')]\n",
    "                except Exception as e:\n",
    "                    self.logger.error((e, row['date']))\n",
    "                    new_date = pd.NaT\n",
    "                else:\n",
    "                    new_date = datetime.date(y, m, d)\n",
    "            elif '/' in row['date']:\n",
    "                try:\n",
    "                    m, d, y = [int(x) for x in row['date'].split('/')]\n",
    "                except Exception as e:\n",
    "                    self.logger.error((e, row['date']))\n",
    "                    new_date = pd.NaT\n",
    "                else:\n",
    "                    new_date = datetime.date(2000 + y, m, d)\n",
    "            else:\n",
    "                self.logger.error('Could not parse date %s', row['date'])\n",
    "                new_date = pd.NaT\n",
    "            row['date'] = new_date\n",
    "\n",
    "    def clean_temps(self):\n",
    "        for row in self.data:\n",
    "            try:\n",
    "                new_temp = float(row['temp'])\n",
    "            except TypeError:  \n",
    "                new_temp = pd.NA\n",
    "            except ValueError:  \n",
    "                new_temp = float(row['temp'].replace(',', '.'))\n",
    "            except Exception as e:  \n",
    "                self.logger.error(e)\n",
    "                new_temp = pd.NA\n",
    "\n",
    "            row['temp'] = new_temp\n",
    "\n",
    "    def clean(self):\n",
    "        self.clean_dates()\n",
    "        self.clean_temps()\n",
    "        return self.data\n"
   ]
  },
  {
   "cell_type": "markdown",
   "metadata": {},
   "source": [
    "`test_data_cleaner.py` innehåller tester för att se om vår `DataCleaner`-class kan hantera data som är formaterad olika."
   ]
  },
  {
   "cell_type": "code",
   "execution_count": null,
   "metadata": {},
   "outputs": [],
   "source": [
    "# test_data_cleaner.py\n",
    "\n",
    "import json\n",
    "from datacleaner import DataCleaner\n",
    "\n",
    "data = json.load(open('data/temps2.json'))\n",
    "\n",
    "def test_data_cleaner_dates():\n",
    "    dc = DataCleaner(data=data)\n",
    "    dc.clean_dates()\n",
    "\n",
    "def test_data_cleaner_temps():\n",
    "    dc = DataCleaner(data=data)\n",
    "    dc.clean_temps()"
   ]
  },
  {
   "cell_type": "markdown",
   "metadata": {},
   "source": [
    "Vi kan köra pytest från en notebook. För att kunna se våra logg-meddelanden behöver vi aktivera *live log* genom att ange `log_cli=true` när vi kör pytest."
   ]
  },
  {
   "cell_type": "code",
   "execution_count": null,
   "metadata": {},
   "outputs": [],
   "source": [
    "! pytest -o log_cli=true test_data_cleaner.py"
   ]
  },
  {
   "cell_type": "code",
   "execution_count": null,
   "metadata": {},
   "outputs": [],
   "source": []
  }
 ],
 "metadata": {
  "kernelspec": {
   "display_name": "env",
   "language": "python",
   "name": "python3"
  },
  "language_info": {
   "codemirror_mode": {
    "name": "ipython",
    "version": 3
   },
   "file_extension": ".py",
   "mimetype": "text/x-python",
   "name": "python",
   "nbconvert_exporter": "python",
   "pygments_lexer": "ipython3",
   "version": "3.12.4"
  }
 },
 "nbformat": 4,
 "nbformat_minor": 2
}
