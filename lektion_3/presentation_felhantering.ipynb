{
 "cells": [
  {
   "cell_type": "markdown",
   "metadata": {},
   "source": [
    "# Felhantering\n",
    "\n",
    "> Errors should never pass silently. Unless explicitly silenced.\n",
    "\n",
    "Tim Peters, *The Zen of Python*\n",
    "\n",
    "## Syntaxfel och *exceptions*\n",
    "\n",
    "### Syntaxfel\n",
    "\n",
    "Fel som uppstår när koden är skriven på ett sätt som Python-tolkaren inte kan tolka.\n"
   ]
  },
  {
   "cell_type": "code",
   "execution_count": null,
   "metadata": {},
   "outputs": [],
   "source": [
    "print('this string is unterminated)"
   ]
  },
  {
   "cell_type": "code",
   "execution_count": null,
   "metadata": {},
   "outputs": [],
   "source": [
    "for i in ['forgot', 'the', ':']\n",
    "    print('so this is a syntax error')"
   ]
  },
  {
   "cell_type": "markdown",
   "metadata": {},
   "source": [
    "### *Exceptions*\n",
    "\n",
    "Fel som uppstår när koden är korrekt rent syntaxmässigt, men ändå inte kan exekveras."
   ]
  },
  {
   "cell_type": "markdown",
   "metadata": {},
   "source": [
    "#### `NameError`"
   ]
  },
  {
   "cell_type": "code",
   "execution_count": null,
   "metadata": {},
   "outputs": [],
   "source": [
    "print(undefined_variable)  # pyright: ignore[reportUndefinedVariable]"
   ]
  },
  {
   "cell_type": "markdown",
   "metadata": {},
   "source": [
    "#### `AttributeError`"
   ]
  },
  {
   "cell_type": "code",
   "execution_count": null,
   "metadata": {},
   "outputs": [],
   "source": [
    "a = 42\n",
    "a.upper()  # pyright: ignore[reportAttributeAccessIssue]"
   ]
  },
  {
   "cell_type": "markdown",
   "metadata": {},
   "source": [
    "#### `ValueError`"
   ]
  },
  {
   "cell_type": "code",
   "execution_count": null,
   "metadata": {},
   "outputs": [],
   "source": [
    "int('fifty three')"
   ]
  },
  {
   "cell_type": "markdown",
   "metadata": {},
   "source": [
    "#### `TypeError`"
   ]
  },
  {
   "cell_type": "code",
   "execution_count": null,
   "metadata": {},
   "outputs": [],
   "source": [
    "1 + '2'  # pyright: ignore[reportOperatorIssue]"
   ]
  },
  {
   "cell_type": "markdown",
   "metadata": {},
   "source": [
    "#### `IndexError`"
   ]
  },
  {
   "cell_type": "code",
   "execution_count": null,
   "metadata": {},
   "outputs": [],
   "source": [
    "[2, 4, 6][4]"
   ]
  },
  {
   "cell_type": "markdown",
   "metadata": {},
   "source": [
    "`builtins` har alla inbyggda *exceptions*."
   ]
  },
  {
   "cell_type": "code",
   "execution_count": null,
   "metadata": {},
   "outputs": [],
   "source": [
    "[err for err in __builtins__.__dict__.keys() if 'Error' in err]"
   ]
  },
  {
   "cell_type": "markdown",
   "metadata": {},
   "source": [
    "## `try ... except ... else`"
   ]
  },
  {
   "cell_type": "markdown",
   "metadata": {},
   "source": [
    "### LBYL vs. EAFP\n",
    "\n",
    "#### **LBYL**: *Look Before You Leap*\n",
    "Försöker förutspå vad som kan gå fel och bygger logiska system med många `if ... else`-satser.\n",
    "\n",
    "#### **EAFP**: *Easier to Ask for Forgiveness than Permission*\n",
    "Förutsätter att allt är som det ska och hanterar *exceptions* med `try ... except` när de uppstår."
   ]
  },
  {
   "cell_type": "code",
   "execution_count": null,
   "metadata": {},
   "outputs": [],
   "source": [
    "a = 42\n",
    "b = '23'\n",
    "\n",
    "print(a + b)  # pyright: ignore[reportOperatorIssue]\n",
    "\n",
    "print('This is also important!')"
   ]
  },
  {
   "cell_type": "markdown",
   "metadata": {},
   "source": [
    "Vi kan tysta *exceptions* med `pass`."
   ]
  },
  {
   "cell_type": "code",
   "execution_count": null,
   "metadata": {},
   "outputs": [],
   "source": [
    "a = 42\n",
    "b = '23'\n",
    "\n",
    "try:\n",
    "    print(a + b)  # pyright: ignore[reportOperatorIssue]\n",
    "except:\n",
    "    pass  # Explicitly silenced\n",
    "\n",
    "print('This is also important!')"
   ]
  },
  {
   "cell_type": "markdown",
   "metadata": {},
   "source": [
    "Det viktiga är att vi vet vad vi håller på med. Oftast kommer en tystad *exception* tillbaka och biter oss senare."
   ]
  },
  {
   "cell_type": "code",
   "execution_count": null,
   "metadata": {},
   "outputs": [],
   "source": [
    "a = 42\n",
    "b = '23'\n",
    "\n",
    "try:\n",
    "    s = a + b  # pyright: ignore[reportOperatorIssue]\n",
    "except:\n",
    "    pass  # Explicitly silenced\n"
   ]
  },
  {
   "cell_type": "code",
   "execution_count": null,
   "metadata": {},
   "outputs": [],
   "source": [
    "print(s)  # Variable is never defined"
   ]
  },
  {
   "cell_type": "code",
   "execution_count": null,
   "metadata": {},
   "outputs": [],
   "source": [
    "a = 42\n",
    "b = '23'\n",
    "\n",
    "try:\n",
    "    print(a + b)  # pyright: ignore[reportOperatorIssue]\n",
    "except TypeError:\n",
    "    print(int(a) + int(b))"
   ]
  },
  {
   "cell_type": "code",
   "execution_count": null,
   "metadata": {},
   "outputs": [],
   "source": [
    "a = 42\n",
    "b = 'tjugotre'\n",
    "\n",
    "try:\n",
    "    print(a + b)  # pyright: ignore[reportOperatorIssue]\n",
    "except TypeError:\n",
    "    print(int(a) + int(b))"
   ]
  },
  {
   "cell_type": "code",
   "execution_count": null,
   "metadata": {},
   "outputs": [],
   "source": [
    "a = 42\n",
    "b = 'tjugotre'\n",
    "\n",
    "try:\n",
    "    print(a + b)  # pyright: ignore[reportOperatorIssue]\n",
    "except TypeError:\n",
    "    try:\n",
    "        print(int(a) + int(b))\n",
    "    except ValueError as e:\n",
    "        print(e)\n",
    "        print('How do we handle this situation?')"
   ]
  },
  {
   "cell_type": "markdown",
   "metadata": {},
   "source": [
    "## Lyfta *exceptions* med `raise`"
   ]
  },
  {
   "cell_type": "markdown",
   "metadata": {},
   "source": [
    "Vi kan använda `isinstance` för att kolla om objektet vi hanterar är av en viss datatyp."
   ]
  },
  {
   "cell_type": "code",
   "execution_count": null,
   "metadata": {},
   "outputs": [],
   "source": [
    "a = 42\n",
    "if not isinstance(a, str):\n",
    "    raise TypeError('Object must be of type str')\n",
    "else:\n",
    "    print(a.upper())"
   ]
  },
  {
   "cell_type": "code",
   "execution_count": null,
   "metadata": {},
   "outputs": [],
   "source": [
    "a = 'forty-two'\n",
    "if not isinstance(a, str):\n",
    "    raise TypeError('Object must be of type str')\n",
    "else:\n",
    "    print(a.upper())"
   ]
  },
  {
   "cell_type": "markdown",
   "metadata": {},
   "source": [
    "`hasattr` returnerar `True` om ett attribut finns på ett visst objekt. Vi ändrar typen av *exception* jämfört med exemplena ovan."
   ]
  },
  {
   "cell_type": "code",
   "execution_count": null,
   "metadata": {},
   "outputs": [],
   "source": [
    "a = 'forty-two'\n",
    "if not hasattr(a, 'upper'):\n",
    "    raise AttributeError(\"Object must have attribute 'upper'\")\n",
    "else:\n",
    "    print(a.upper())"
   ]
  },
  {
   "cell_type": "code",
   "execution_count": null,
   "metadata": {},
   "outputs": [],
   "source": [
    "b = 42\n",
    "if not hasattr(b, 'upper'):\n",
    "    raise AttributeError(\"Object must have attribute 'upper'\")\n",
    "else:\n",
    "    print(a.upper())"
   ]
  },
  {
   "cell_type": "markdown",
   "metadata": {},
   "source": [
    "### Datatvätt med LBYL & EAFP\n"
   ]
  },
  {
   "cell_type": "markdown",
   "metadata": {},
   "source": [
    "\n",
    "Vi läser in ett dataset av lite sämre kvalitet.^[Jag kan ha råkat ha sönder lite data från SMHI. 🤷] Det är en lista av dictionaries med nycklarna `date` och `temp`.\n",
    "\n",
    "`date`-värdena beskriver datum i två olika format.\n",
    "\n",
    "En del `temp`-värden är  `None`, och dessutom är det blandat mellan `.` och `,` som decimalavgränsare.\n",
    "\n",
    "Vi ska här nedan se på två sätt att tvätta datan för att på sikt kunna göra ett linjediagram över temperaturerna."
   ]
  },
  {
   "cell_type": "code",
   "execution_count": null,
   "metadata": {},
   "outputs": [],
   "source": [
    "import json\n",
    "import pandas as pd\n",
    "\n",
    "temps = json.load(open('data/temps.json'))\n",
    "temps"
   ]
  },
  {
   "cell_type": "markdown",
   "metadata": {},
   "source": [
    "#### `date`"
   ]
  },
  {
   "cell_type": "code",
   "execution_count": null,
   "metadata": {},
   "outputs": [],
   "source": [
    "# Eftersom vi vet att det är två olika format lämpar sig LBYL bättre\n",
    "\n",
    "import datetime\n",
    "\n",
    "for row in temps:\n",
    "    if '-' in row['date']:  # Format YYYY-MM-DD\n",
    "        y, m, d = [int(x) for x in row['date'].split('-')]\n",
    "        new_date = datetime.date(y, m, d)\n",
    "    elif '/' in row['date']:  # Format MM/DD/YY\n",
    "        m, d, y = [int(x) for x in row['date'].split('/')]\n",
    "        new_date = datetime.date(2000 + y, m, d)  # Lägg till 2000 till året för att få 2024\n",
    "    else:\n",
    "        raise Exception(f'Could not parse date {row[\"date\"]}')  # Fånga eventuella undantag\n",
    "    row['date'] = new_date"
   ]
  },
  {
   "cell_type": "code",
   "execution_count": null,
   "metadata": {},
   "outputs": [],
   "source": [
    "temps"
   ]
  },
  {
   "cell_type": "markdown",
   "metadata": {},
   "source": [
    "#### `temp`"
   ]
  },
  {
   "cell_type": "code",
   "execution_count": null,
   "metadata": {},
   "outputs": [],
   "source": [
    "# Här är det bättre med EAFP eftersom vi har flera olika saker som kan gå fel\n",
    "\n",
    "for row in temps:\n",
    "    try:\n",
    "        new_temp = float(row['temp'])\n",
    "    except TypeError:  # Om värdet är None får vi ett TypeError\n",
    "        new_temp = pd.NA\n",
    "    except ValueError:  # Om decimalavgränsaren är ett , får vi ett ValueError\n",
    "        new_temp = float(row['temp'].replace(',', '.'))\n",
    "    except Exception as e:  # Fånga eventuella andra exceptions, lyft dem just nu\n",
    "        raise e\n",
    "    row['temp'] = new_temp"
   ]
  },
  {
   "cell_type": "code",
   "execution_count": null,
   "metadata": {},
   "outputs": [],
   "source": [
    "temps"
   ]
  },
  {
   "cell_type": "code",
   "execution_count": null,
   "metadata": {},
   "outputs": [],
   "source": [
    "df = pd.DataFrame(data=temps)\n",
    "df = df.dropna(axis=0)\n",
    "df['temp'] = df.temp.astype(float)\n",
    "df.plot(kind='line', x='date', y='temp', figsize=(8, 4))"
   ]
  },
  {
   "cell_type": "markdown",
   "metadata": {},
   "source": [
    "Sen ska vi inte glömma att Pandas är helt underbart och att det vi gjort ovan också kan göras med fyra rader kod:"
   ]
  },
  {
   "cell_type": "code",
   "execution_count": null,
   "metadata": {},
   "outputs": [],
   "source": [
    "df2 = pd.read_json('data/temps.json')\n",
    "df2['temp'] = df2.temp.str.replace(',', '.').astype(float)\n",
    "df2.dropna(inplace=True)\n",
    "df2.plot(kind='line', x= 'date', y='temp', figsize=(8, 4))"
   ]
  },
  {
   "cell_type": "markdown",
   "metadata": {},
   "source": [
    "### Datatvätt med Pandas\n",
    "\n",
    "Pandas kan automatiskt ändra de olika datumformaten till ett enhetligt format och göra om dem till sin egen `datetime64`-datatyp."
   ]
  },
  {
   "cell_type": "code",
   "execution_count": null,
   "metadata": {},
   "outputs": [],
   "source": [
    "df3 = pd.read_json('data/temps.json')\n",
    "df3.date"
   ]
  },
  {
   "cell_type": "markdown",
   "metadata": {},
   "source": [
    "`temp`-kolumnen är av `object`-datatypen och behöver lite hjälp att omvandlas till `float`."
   ]
  },
  {
   "cell_type": "code",
   "execution_count": null,
   "metadata": {},
   "outputs": [],
   "source": [
    "df3.temp"
   ]
  },
  {
   "cell_type": "markdown",
   "metadata": {},
   "source": [
    "Vi kan komma åt `str`-metoder på värdena i en kolumn genom att ange `.str` efter kolumnens namn. Då kan vi köra `replace()` på `temp`-kolumnen och omvandla värdena till `float`. Pandas hanterar automatisk `None`-värden."
   ]
  },
  {
   "cell_type": "code",
   "execution_count": null,
   "metadata": {},
   "outputs": [],
   "source": [
    "df3.temp.str.replace(',', '.').astype(float)"
   ]
  },
  {
   "cell_type": "markdown",
   "metadata": {},
   "source": [
    "Vi skriver över värdena i `temp`-kolumnen med de nya."
   ]
  },
  {
   "cell_type": "code",
   "execution_count": null,
   "metadata": {},
   "outputs": [],
   "source": [
    "df3['temp'] = df3.temp.str.replace(',', '.').astype(float)"
   ]
  },
  {
   "cell_type": "code",
   "execution_count": null,
   "metadata": {},
   "outputs": [],
   "source": [
    "df3.temp"
   ]
  },
  {
   "cell_type": "markdown",
   "metadata": {},
   "source": [
    "Nu kan vi droppa raderna med saknade värden."
   ]
  },
  {
   "cell_type": "code",
   "execution_count": null,
   "metadata": {},
   "outputs": [],
   "source": [
    "df3.dropna(inplace=True)\n"
   ]
  },
  {
   "cell_type": "code",
   "execution_count": null,
   "metadata": {},
   "outputs": [],
   "source": [
    "df3"
   ]
  },
  {
   "cell_type": "code",
   "execution_count": null,
   "metadata": {},
   "outputs": [],
   "source": [
    "df3.plot(kind='line', x= 'date', y='temp', figsize=(8, 4))"
   ]
  },
  {
   "cell_type": "code",
   "execution_count": null,
   "metadata": {},
   "outputs": [],
   "source": []
  }
 ],
 "metadata": {
  "kernelspec": {
   "display_name": "env",
   "language": "python",
   "name": "python3"
  },
  "language_info": {
   "codemirror_mode": {
    "name": "ipython",
    "version": 3
   },
   "file_extension": ".py",
   "mimetype": "text/x-python",
   "name": "python",
   "nbconvert_exporter": "python",
   "pygments_lexer": "ipython3",
   "version": "3.12.4"
  }
 },
 "nbformat": 4,
 "nbformat_minor": 2
}
