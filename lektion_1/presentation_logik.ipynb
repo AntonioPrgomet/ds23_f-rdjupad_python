{
 "cells": [
  {
   "cell_type": "markdown",
   "id": "e1f7e6fd-2a20-41e7-9d75-402d78050490",
   "metadata": {},
   "source": [
    "# Exempel på logik"
   ]
  },
  {
   "cell_type": "markdown",
   "id": "cc0fd352-cadc-4e87-acea-8046fc1214a6",
   "metadata": {},
   "source": [
    "Boolesk logik: `True` och `False` representerar sanna och falska värden."
   ]
  },
  {
   "cell_type": "code",
   "execution_count": null,
   "id": "382379fa",
   "metadata": {},
   "outputs": [],
   "source": [
    "isinstance(True, bool)"
   ]
  },
  {
   "cell_type": "code",
   "execution_count": null,
   "id": "0e1e33a8",
   "metadata": {},
   "outputs": [],
   "source": [
    "False == 0"
   ]
  },
  {
   "cell_type": "markdown",
   "id": "160113f2-ea19-46d8-9efb-76070b5eeb7f",
   "metadata": {},
   "source": [
    "## Jämförelser"
   ]
  },
  {
   "cell_type": "code",
   "execution_count": null,
   "id": "58d0e524-b99d-4eca-9862-6bf1a1b674ef",
   "metadata": {},
   "outputs": [],
   "source": [
    "1 < 2  # Ett är mindre än två"
   ]
  },
  {
   "cell_type": "code",
   "execution_count": null,
   "id": "e910e998-8d1e-409b-af10-94a5bfb97fbe",
   "metadata": {},
   "outputs": [],
   "source": [
    "1 > 2  # Ett är större än två"
   ]
  },
  {
   "cell_type": "code",
   "execution_count": null,
   "id": "1905d7f4-1642-46f8-9435-2464ae1fdfa1",
   "metadata": {},
   "outputs": [],
   "source": [
    "1 == 1  # Ett är lika med ett"
   ]
  },
  {
   "cell_type": "code",
   "execution_count": null,
   "id": "3fbbca0a-d40d-4cea-87ff-e9a7ff05770e",
   "metadata": {},
   "outputs": [],
   "source": [
    "1 == 2  # Ett är lika med två"
   ]
  },
  {
   "cell_type": "markdown",
   "id": "ac25ef4e-60d5-4bd1-aeff-bfdb0e8528f6",
   "metadata": {},
   "source": [
    "## `if`-satser"
   ]
  },
  {
   "cell_type": "markdown",
   "id": "7c374c9d-7f39-4f99-bb01-a7d65b34d13c",
   "metadata": {},
   "source": [
    "Det som definieras i en `if`-sats körs om jämförelsen i `if`-satsen utvärderas till `True`."
   ]
  },
  {
   "cell_type": "code",
   "execution_count": null,
   "id": "3a2fc213-e6e6-44c1-bfbd-aa1a6c1e9b91",
   "metadata": {},
   "outputs": [],
   "source": [
    "if True:\n",
    "    print('Stämmer!')"
   ]
  },
  {
   "cell_type": "code",
   "execution_count": null,
   "id": "fe93f9a5-62f3-40b3-b442-5968a604c0c7",
   "metadata": {},
   "outputs": [],
   "source": [
    "a = 14\n",
    "b = 16\n",
    "if a < b:\n",
    "    print(a, 'är mindre än', b, sep=\" \")"
   ]
  },
  {
   "cell_type": "markdown",
   "id": "c8b1f208-2be9-43b1-8d49-d654c5ec688f",
   "metadata": {},
   "source": [
    "Vi kan bygga flera `if`-satser på varandra med `elif` - \"else if\"."
   ]
  },
  {
   "cell_type": "code",
   "execution_count": null,
   "id": "1b6988e2-003b-4d75-8773-826c85c4c037",
   "metadata": {},
   "outputs": [],
   "source": [
    "a = 16\n",
    "b = 16\n",
    "if a < b:\n",
    "    print(a, 'är mindre än', b, sep=\" \")\n",
    "elif a > b:\n",
    "    print(a, 'är större än', b, sep=\" \")"
   ]
  },
  {
   "cell_type": "markdown",
   "id": "29bb1892-bc35-48ae-a813-125f70979204",
   "metadata": {},
   "source": [
    "Vi kan avsluta med `else` för att fånga upp de fall som inte fångas av `if`- och `elif`-satserna."
   ]
  },
  {
   "cell_type": "code",
   "execution_count": null,
   "id": "d2267fb1-6a21-4112-bce8-5eeda332d267",
   "metadata": {},
   "outputs": [],
   "source": [
    "a = 16\n",
    "b = 16\n",
    "if a < b:\n",
    "    print(a, 'är mindre än', b, sep=\" \")\n",
    "elif a > b:\n",
    "    print(a, 'är större än', b, sep=\" \")\n",
    "else:\n",
    "    print(a, 'är lika med', b, sep=\" \")"
   ]
  },
  {
   "cell_type": "markdown",
   "id": "00f6b824-86e8-4d70-bcab-8a9cc94f1d1a",
   "metadata": {},
   "source": [
    "Om vi har flera `if`-satser efter varandra hänger de inte ihop. I exemplet nedan hör `else`-satsen bara till den andra `if`-satsen."
   ]
  },
  {
   "cell_type": "code",
   "execution_count": null,
   "id": "defe657a-5037-4bee-8ebd-c7f75b6c6699",
   "metadata": {},
   "outputs": [],
   "source": [
    "a = 14\n",
    "b = 16\n",
    "\n",
    "if a < b:\n",
    "    print(a, 'är mindre än', b, sep=\" \")\n",
    "if a > b:\n",
    "    print(a, 'är större än', b, sep=\" \")\n",
    "else:\n",
    "    print(a, 'är lika med', b, sep=\" \")"
   ]
  },
  {
   "cell_type": "markdown",
   "id": "463cad73-c6ee-4cec-a282-477f46b71d83",
   "metadata": {},
   "source": [
    "## Logiska operatorer\n",
    "Vi kan använda de logiska operatorerna `and`, `or` och `not` för att kombinera jämförelser.\n",
    "\n",
    "|Operator|Beskrivning|\n",
    "|--------|-----------|\n",
    "| `and` | Returnerar `True` om båda uttrycken utvärderas till `True` |\n",
    "| `or` | Returnerar `True` om minst ett av uttrycken uvärderas till `True` |\n",
    "| `not` | Returnerar motsatsen till uttryckets sanningsvärde |"
   ]
  },
  {
   "cell_type": "code",
   "execution_count": null,
   "id": "032e9195-616b-4ac1-a700-a9bf8681785f",
   "metadata": {},
   "outputs": [],
   "source": [
    "not not False"
   ]
  },
  {
   "cell_type": "code",
   "execution_count": null,
   "id": "ca76edd8-60fc-4f9c-940d-d5aecbf39d67",
   "metadata": {},
   "outputs": [],
   "source": [
    "3 < 10 and 8 < 10"
   ]
  },
  {
   "cell_type": "code",
   "execution_count": null,
   "id": "10c5b376-0a15-4fdd-8839-713ff02c4b97",
   "metadata": {},
   "outputs": [],
   "source": [
    "3 < 10 and 18 < 10"
   ]
  },
  {
   "cell_type": "code",
   "execution_count": null,
   "id": "62d0198e-9063-4d55-b351-6ca8265a8e4d",
   "metadata": {},
   "outputs": [],
   "source": [
    "3 < 10 or 18 < 10"
   ]
  },
  {
   "cell_type": "code",
   "execution_count": null,
   "id": "2aa564bc-2ec5-41f7-8f6e-17abbc3a86be",
   "metadata": {},
   "outputs": [],
   "source": [
    "13 < 10 or 18 < 10"
   ]
  },
  {
   "cell_type": "code",
   "execution_count": null,
   "id": "dfb7e15a-d03b-4b62-acf3-49f92b532677",
   "metadata": {},
   "outputs": [],
   "source": [
    "not 1 < 2"
   ]
  },
  {
   "cell_type": "code",
   "execution_count": null,
   "id": "6ed19f14",
   "metadata": {},
   "outputs": [],
   "source": [
    "not False"
   ]
  },
  {
   "cell_type": "code",
   "execution_count": null,
   "id": "449ac745-2046-42dd-ac86-693bf805de23",
   "metadata": {},
   "outputs": [],
   "source": [
    "(10 > 4 and 7 == 8) or not 6 > 11 "
   ]
  },
  {
   "cell_type": "code",
   "execution_count": null,
   "id": "68b6fa2f-2700-4973-8f47-49d2532eabb9",
   "metadata": {},
   "outputs": [],
   "source": []
  }
 ],
 "metadata": {
  "kernelspec": {
   "display_name": "Python 3 (ipykernel)",
   "language": "python",
   "name": "python3"
  },
  "language_info": {
   "codemirror_mode": {
    "name": "ipython",
    "version": 3
   },
   "file_extension": ".py",
   "mimetype": "text/x-python",
   "name": "python",
   "nbconvert_exporter": "python",
   "pygments_lexer": "ipython3",
   "version": "3.12.4"
  }
 },
 "nbformat": 4,
 "nbformat_minor": 5
}
