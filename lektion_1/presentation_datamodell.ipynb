{
  "cells": [
    {
      "cell_type": "markdown",
      "metadata": {},
      "source": [
        "# Pythons datamodell\n",
        "\n",
        "## Objekt, identitet, datatyp, värde\n",
        "\n",
        "### Objekt\n",
        "I den officiella Python-dokumentationen står följande:\n",
        "\n",
        "> Objects are Python’s abstraction for data. All data in a Python program is represented by objects or by relations between objects. … Every object has an identity, a type and a value.\n",
        "\n",
        "All data i Python representeras av **objekt**, som har en identitet, en datatyp, och ett värde.\n",
        "\n",
        "När vi deklarerar en variabel i Python, till exempel genom att skriva `a = 42`, skapas ett objekt av datatypen `int` med värdet `42`. `a` är en *identifierare* till objektet, som gör att vi kan skriva ut det och genomföra operationer på det."
      ]
    },
    {
      "cell_type": "markdown",
      "metadata": {},
      "source": [
        "\n",
        "### Identitet\n",
        "När ett objekt skapas, får det en unik ***identitet***. Den representeras av ett heltal som är objektets adress i datorns minne.\n",
        "\n",
        "Vi kan ta reda på ett objekts identitet genom funktionen `id()`."
      ]
    },
    {
      "cell_type": "code",
      "execution_count": null,
      "metadata": {
        "output-location": "column-fragment"
      },
      "outputs": [],
      "source": [
        "a = 42\n",
        "id(a)"
      ]
    },
    {
      "cell_type": "markdown",
      "metadata": {},
      "source": [
        "Kom ihåg att `a` är en *identifierare* - inte själva objektet! Ett objekt kan ha flera identifierare som pekar mot samma objekt."
      ]
    },
    {
      "cell_type": "code",
      "execution_count": null,
      "metadata": {},
      "outputs": [],
      "source": [
        "b = a\n",
        "id(a) == id(b)"
      ]
    },
    {
      "cell_type": "markdown",
      "metadata": {},
      "source": [
        "Objekt som är *mutable*, till exempel listor, bildar alltid nya objekt."
      ]
    },
    {
      "cell_type": "code",
      "execution_count": null,
      "metadata": {},
      "outputs": [],
      "source": [
        "c = []\n",
        "d = []\n",
        "id(c) == id(d)"
      ]
    },
    {
      "cell_type": "code",
      "execution_count": null,
      "metadata": {},
      "outputs": [],
      "source": [
        "e = f = []\n",
        "id(e) == id(f)"
      ]
    },
    {
      "cell_type": "code",
      "execution_count": null,
      "metadata": {},
      "outputs": [],
      "source": [
        "e.append(42)\n",
        "f"
      ]
    },
    {
      "cell_type": "code",
      "execution_count": null,
      "metadata": {},
      "outputs": [],
      "source": [
        "c.append(42)\n",
        "d"
      ]
    },
    {
      "cell_type": "markdown",
      "metadata": {},
      "source": [
        "## Datatyp\n",
        "Ett objekts **datatyp** avgör vilka operationer vi kan utföra på objektet, och vilka värden det kan ha.\n",
        "\n",
        "Precis som med identiteten kan ett objekts datatyp inte ändras när det väl skapats.\n",
        "\n",
        "Vi kan ta reda på ett objekts datatyp genom funktionen `type()`."
      ]
    },
    {
      "cell_type": "code",
      "execution_count": null,
      "metadata": {
        "output-location": "column-fragment"
      },
      "outputs": [],
      "source": [
        "a = 42\n",
        "type(a)"
      ]
    },
    {
      "cell_type": "markdown",
      "metadata": {},
      "source": [
        "Variabeln `a` representerar ett objekt av datatypen `int`, som är Pythons sätt att hantera heltal, *integers*.\n"
      ]
    },
    {
      "cell_type": "markdown",
      "metadata": {},
      "source": [
        "Den inbyggda funktionen `dir()` skriver ut ett objekts *attribut*."
      ]
    },
    {
      "cell_type": "code",
      "execution_count": null,
      "metadata": {},
      "outputs": [],
      "source": [
        "b = 'hello, world!'\n",
        "dir(b)"
      ]
    },
    {
      "cell_type": "code",
      "execution_count": null,
      "metadata": {},
      "outputs": [],
      "source": [
        "[attr for attr in dir(b) if not attr.startswith('__')]"
      ]
    },
    {
      "cell_type": "code",
      "execution_count": null,
      "metadata": {},
      "outputs": [],
      "source": [
        "b.upper()"
      ]
    },
    {
      "cell_type": "code",
      "execution_count": null,
      "metadata": {},
      "outputs": [],
      "source": [
        "b.split()"
      ]
    },
    {
      "cell_type": "markdown",
      "metadata": {},
      "source": [
        "\n",
        "## Värde\n",
        "Ett objekts **värde** är datan det representerar. I de tidigare exemplena var det bland annat heltalet `42`, och textsträngen `hello, world!`\n",
        "\n",
        "Vissa objekts värden kan ändras efter att de skapas. Dessa objekt är av datatyper som kallas *mutable*. Andra objekt är av datatyper som kallas *immutable*, och deras värden kan inte ändras efter att objektet har skapats.\n"
      ]
    },
    {
      "cell_type": "code",
      "execution_count": null,
      "metadata": {},
      "outputs": [],
      "source": [
        "my_list = [2, 4, 75]\n",
        "my_list\n"
      ]
    },
    {
      "cell_type": "code",
      "execution_count": null,
      "metadata": {},
      "outputs": [],
      "source": [
        "my_list[1] = 6  # En list är mutable och kan ändras efter att den skapats\n",
        "my_list"
      ]
    },
    {
      "cell_type": "code",
      "execution_count": null,
      "metadata": {},
      "outputs": [],
      "source": [
        "my_list.append(19)\n",
        "my_list"
      ]
    },
    {
      "cell_type": "code",
      "execution_count": null,
      "metadata": {},
      "outputs": [],
      "source": [
        "my_tuple = tuple(my_list)\n",
        "my_tuple"
      ]
    },
    {
      "cell_type": "code",
      "execution_count": null,
      "metadata": {},
      "outputs": [],
      "source": [
        "my_tuple[3] = 36  # En tuple kan inte ändras efter att den skapats"
      ]
    },
    {
      "cell_type": "code",
      "execution_count": null,
      "metadata": {},
      "outputs": [],
      "source": [
        "my_tuple.append(61)"
      ]
    },
    {
      "cell_type": "markdown",
      "metadata": {},
      "source": [
        "En `int` är *immutable*. Vi säger ibland lite slarvigt att vi ändrar värdet på variabeln `a`, men i själva verket skapar vi ett nytt objekt och låter identifieraren `a` peka mot det nya objektet istället."
      ]
    },
    {
      "cell_type": "code",
      "execution_count": null,
      "metadata": {},
      "outputs": [],
      "source": [
        "a = 42\n",
        "id(a)"
      ]
    },
    {
      "cell_type": "code",
      "execution_count": null,
      "metadata": {},
      "outputs": [],
      "source": [
        "a = 23\n",
        "id(a)"
      ]
    },
    {
      "cell_type": "markdown",
      "metadata": {},
      "source": [
        "`a` får ett nytt id eftersom vi skapat ett nytt objekt och låter `a` peka mot det istället. \n",
        "\n",
        "Det gäller inte objekt som är *mutable*!"
      ]
    },
    {
      "cell_type": "code",
      "execution_count": null,
      "metadata": {},
      "outputs": [],
      "source": [
        "my_list = [4, 8, 15]\n",
        "id_before_append = id(my_list)"
      ]
    },
    {
      "cell_type": "code",
      "execution_count": null,
      "metadata": {},
      "outputs": [],
      "source": [
        "my_list.append(16)\n",
        "id(my_list) == id_before_append"
      ]
    },
    {
      "cell_type": "markdown",
      "metadata": {},
      "source": [
        "\n",
        "## Namnrymd och omfång\n",
        "Två vanligt förekommande koncept inom programmering är namnrymd (*namespace*) och omfång (*scope*).\n",
        "\n",
        "En **namnrymd** är en samling namn på objekt, och de objekten som namnen representerar.\n",
        "\n",
        "Ett **omfång** avgör vilka objekt som är tillgängliga i en viss del av ett program.\n",
        "\n",
        "### Namnrymd\n",
        "\n",
        "\n",
        "| Namnrymd | Engelskt namn | Beskrivning |\n",
        "|----------|---------------|-------------|\n",
        "| Inbyggd | *Built-In* | Innehåller namnen på alla Pythons inbyggda objekt, däribland alla inbyggda funktioner, datatyper och *exceptions*. |\n",
        "| Global | *Global* | Innehåller namnen på alla objekt som definieras i huvudmodulen `__main__`. |\n",
        "| Inkapslande | *Enclosing* | En namnrymd i en funktion som innehåller en annan funktion. |\n",
        "| Lokal | *Local* | En namnrymd i en funktion som inte innehåller andra funktioner. |"
      ]
    },
    {
      "cell_type": "code",
      "execution_count": null,
      "metadata": {},
      "outputs": [],
      "source": [
        "__builtins__.__dict__"
      ]
    },
    {
      "cell_type": "code",
      "execution_count": null,
      "metadata": {},
      "outputs": [],
      "source": [
        "globals()"
      ]
    },
    {
      "cell_type": "code",
      "execution_count": null,
      "metadata": {},
      "outputs": [],
      "source": [
        "import random\n",
        "globals()"
      ]
    },
    {
      "cell_type": "code",
      "execution_count": 67,
      "metadata": {},
      "outputs": [
        {
          "name": "stdout",
          "output_type": "stream",
          "text": [
            "This is the enclosing namespace.\n",
            "This is the local namespace.\n"
          ]
        }
      ],
      "source": [
        "def outer_function():\n",
        "    print('This is the enclosing namespace.')\n",
        "\n",
        "    def inner_function():\n",
        "        print('This is the local namespace.')\n",
        "\n",
        "    inner_function()\n",
        "\n",
        "outer_function()"
      ]
    },
    {
      "cell_type": "markdown",
      "metadata": {},
      "source": [
        "### Omfång"
      ]
    },
    {
      "cell_type": "code",
      "execution_count": 69,
      "metadata": {
        "output-location": "column-fragment"
      },
      "outputs": [
        {
          "name": "stdout",
          "output_type": "stream",
          "text": [
            "outer scope\n"
          ]
        }
      ],
      "source": [
        "x = 'global scope'\n",
        "\n",
        "def outer_function():\n",
        "    \n",
        "    def inner_function():\n",
        "        print(x)\n",
        "\n",
        "    inner_function()\n",
        "\n",
        "outer_function()"
      ]
    },
    {
      "cell_type": "code",
      "execution_count": 70,
      "metadata": {},
      "outputs": [
        {
          "name": "stdout",
          "output_type": "stream",
          "text": [
            "encosing scope\n"
          ]
        }
      ],
      "source": [
        "x = 'global scope'\n",
        "\n",
        "def outer_function():\n",
        "    x = 'encosing scope'\n",
        "    \n",
        "    def inner_function():\n",
        "        print(x)\n",
        "\n",
        "    inner_function()\n",
        "\n",
        "outer_function()"
      ]
    },
    {
      "cell_type": "code",
      "execution_count": 72,
      "metadata": {},
      "outputs": [
        {
          "name": "stdout",
          "output_type": "stream",
          "text": [
            "local scope\n"
          ]
        }
      ],
      "source": [
        "x = 'global scope'\n",
        "\n",
        "def outer_function():\n",
        "    x = 'enclosing scope'\n",
        "    def inner_function():\n",
        "        x = 'local scope'\n",
        "        print(x)\n",
        "\n",
        "    inner_function()\n",
        "\n",
        "outer_function()"
      ]
    },
    {
      "cell_type": "code",
      "execution_count": 73,
      "metadata": {},
      "outputs": [
        {
          "name": "stdout",
          "output_type": "stream",
          "text": [
            "local scope\n",
            "global scope\n"
          ]
        }
      ],
      "source": [
        "x = 'global scope'\n",
        "\n",
        "def outer_function():\n",
        "    x = 'enclosing scope'\n",
        "    def inner_function():\n",
        "        x = 'local scope'\n",
        "        print(x)\n",
        "\n",
        "    inner_function()\n",
        "\n",
        "outer_function()\n",
        "print(x)"
      ]
    },
    {
      "cell_type": "code",
      "execution_count": null,
      "metadata": {},
      "outputs": [],
      "source": []
    }
  ],
  "metadata": {
    "kernelspec": {
      "display_name": "Python 3 (ipykernel)",
      "language": "python",
      "name": "python3",
      "path": "/home/linus/.local/share/jupyter/kernels/python3"
    },
    "language_info": {
      "codemirror_mode": {
        "name": "ipython",
        "version": 3
      },
      "file_extension": ".py",
      "mimetype": "text/x-python",
      "name": "python",
      "nbconvert_exporter": "python",
      "pygments_lexer": "ipython3",
      "version": "3.12.4"
    }
  },
  "nbformat": 4,
  "nbformat_minor": 4
}
