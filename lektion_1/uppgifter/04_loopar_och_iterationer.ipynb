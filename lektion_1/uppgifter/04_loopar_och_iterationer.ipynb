{
 "cells": [
  {
   "cell_type": "markdown",
   "id": "92b5c548-e8ea-4ce8-a138-b3343118191b",
   "metadata": {},
   "source": [
    "# Uppgifter, Kapitel 4 - Loopar och iterationer"
   ]
  },
  {
   "cell_type": "markdown",
   "id": "7de23cbe-8fda-45a7-87f0-8b05434e5c0a",
   "metadata": {},
   "source": [
    "1. Printa ut alla element i listan \"looping_list\" med en for loop. "
   ]
  },
  {
   "cell_type": "code",
   "execution_count": null,
   "id": "f5b16260-1885-4d22-b379-aa40c5fe1058",
   "metadata": {},
   "outputs": [],
   "source": [
    "looping_list = [0, 'a', 'b', [1, 2, 3], ('Python', 'R', 'C', 'Java'), 55]"
   ]
  },
  {
   "cell_type": "code",
   "execution_count": null,
   "id": "f392ddf4-4073-4b67-9f35-89d190a8ef82",
   "metadata": {},
   "outputs": [],
   "source": []
  },
  {
   "cell_type": "markdown",
   "id": "348372a0-e28f-47ce-800b-d2cfe5a20ea6",
   "metadata": {},
   "source": [
    "2. Printa ut alla element i listan \"looping_list\" med en for loop och printa även ut vilken iteration det är genom att använda funktionen enumerate(). "
   ]
  },
  {
   "cell_type": "code",
   "execution_count": null,
   "id": "d8ce5f6e-22d4-4ed6-b856-a38f6effe126",
   "metadata": {},
   "outputs": [],
   "source": [
    "looping_list = [0, 'a', 'b', [1, 2, 3], ('Python', 'R', 'C', 'Java'), 55]"
   ]
  },
  {
   "cell_type": "code",
   "execution_count": null,
   "id": "03346143-d243-4a6b-a153-f4b42708e224",
   "metadata": {},
   "outputs": [],
   "source": []
  },
  {
   "cell_type": "markdown",
   "id": "36d003b3-1306-4c21-a5c1-c16a2694458c",
   "metadata": {},
   "source": [
    "3. Printa ut talen 0, 5, 10, 15, 20 med en for-loop där du använder range() funktionen. "
   ]
  },
  {
   "cell_type": "code",
   "execution_count": null,
   "id": "d5565df3-6359-4795-8732-873a9f895d39",
   "metadata": {},
   "outputs": [],
   "source": []
  },
  {
   "cell_type": "markdown",
   "id": "1787c8f7-403f-4a1c-a5c5-f1b5e9eba6db",
   "metadata": {},
   "source": [
    "4. Skriv en for loop för att printa ut varje bokstav separat i variabeln \"for_string\". "
   ]
  },
  {
   "cell_type": "code",
   "execution_count": null,
   "id": "d82b0e78-6a5c-4836-988a-664dce100da6",
   "metadata": {},
   "outputs": [],
   "source": [
    "for_string = 'Python!'"
   ]
  },
  {
   "cell_type": "code",
   "execution_count": null,
   "id": "3ee0e9c3-b259-41f5-9f80-2a4a67cec10b",
   "metadata": {},
   "outputs": [],
   "source": []
  },
  {
   "cell_type": "markdown",
   "id": "4ae19237-7548-4321-b2b1-895f5770c7e9",
   "metadata": {},
   "source": [
    "5. Skriv en while loop för att printa ut varje bokstav separat i variabeln \"while_string\". "
   ]
  },
  {
   "cell_type": "code",
   "execution_count": null,
   "id": "00f37b53-2c7b-47f8-97b5-9cec21cb81e3",
   "metadata": {},
   "outputs": [],
   "source": [
    "while_string = 'Is Awesome!'"
   ]
  },
  {
   "cell_type": "code",
   "execution_count": null,
   "id": "64017a58-dd7b-43c8-9c95-5e1a467aebec",
   "metadata": {},
   "outputs": [],
   "source": []
  },
  {
   "cell_type": "markdown",
   "id": "7a240635-c703-4229-94bf-f2110eba5fb2",
   "metadata": {},
   "source": [
    "6. Printa ut talen 1, 2, 3, ..., 10 med en while loop. "
   ]
  },
  {
   "cell_type": "code",
   "execution_count": null,
   "id": "97be2566-075d-4804-9a41-5cd189bf8661",
   "metadata": {},
   "outputs": [],
   "source": []
  },
  {
   "cell_type": "markdown",
   "id": "ed3c452d-8516-43f7-a08b-11b57014fc20",
   "metadata": {},
   "source": [
    "7. Printa ut alla tal som är delbara med 5 i listan som är sparad i variabeln \"numbers\". För att se om ett tal är delbart med 5 så kan du använda modulo operatorn \"%\". Ett tal är delbart med 5 om dess rest är 0 när det delas med 5. "
   ]
  },
  {
   "cell_type": "code",
   "execution_count": null,
   "id": "ec661d41-5e23-45bd-8ead-735c1f92491a",
   "metadata": {},
   "outputs": [],
   "source": [
    "numbers = [10, 20, 34, 46, 55]"
   ]
  },
  {
   "cell_type": "code",
   "execution_count": null,
   "id": "a8498e3e-1bb8-47ed-9a2c-6e53bd2cd0a7",
   "metadata": {},
   "outputs": [],
   "source": []
  },
  {
   "cell_type": "markdown",
   "id": "0655877b-41e3-4c48-8e6a-18daf8cb1489",
   "metadata": {},
   "source": [
    "8. Förklara vad nedanstående kod gör. "
   ]
  },
  {
   "cell_type": "code",
   "execution_count": null,
   "id": "376cc228-2d30-468a-b88c-ace60d24f2ce",
   "metadata": {},
   "outputs": [],
   "source": [
    "my_list = [] \n",
    "\n",
    "for i in range(10):\n",
    "    if i % 2 == 0:\n",
    "        my_list.append(i)\n",
    "\n",
    "print(my_list)"
   ]
  },
  {
   "cell_type": "code",
   "execution_count": null,
   "id": "7952c048-d564-4611-9c1d-85a51f81a145",
   "metadata": {},
   "outputs": [],
   "source": []
  },
  {
   "cell_type": "markdown",
   "id": "5808c6d7-5e93-4aa2-964a-4b58719b5a67",
   "metadata": {},
   "source": [
    "9. Använd en for loop för att skapa en ny lista från \"list_example\", där varje tal är multiplicerat med 10. Du skall endast inkludera talen mellan 4-8 där 4 och 8 är inkluderat från \"list example\". "
   ]
  },
  {
   "cell_type": "code",
   "execution_count": null,
   "id": "da992d02-fb65-4afd-afb9-62c28fddcdbf",
   "metadata": {},
   "outputs": [],
   "source": [
    "list_example = [1, 2, 3, 4, 5, 6, 7, 8, 9, 10]"
   ]
  },
  {
   "cell_type": "code",
   "execution_count": null,
   "id": "b1529f0a-33a5-4658-b7c2-880ba0928c66",
   "metadata": {},
   "outputs": [],
   "source": []
  },
  {
   "cell_type": "markdown",
   "id": "73e90cee-37c1-4db2-9a62-fbf9c54d3f13",
   "metadata": {},
   "source": [
    "10. Förklara vad nedanstående kod gör."
   ]
  },
  {
   "cell_type": "code",
   "execution_count": null,
   "id": "9d14cc51-3be4-4679-8903-12ce50593c1a",
   "metadata": {},
   "outputs": [],
   "source": [
    "for i in range(100):\n",
    "    if i in (5, 7, 8):\n",
    "        continue \n",
    "    if i > 10: \n",
    "       break\n",
    "    print(i)\n",
    "else: \n",
    "    print('We are done!')"
   ]
  },
  {
   "cell_type": "code",
   "execution_count": null,
   "id": "bc515086-1728-4b31-bd3a-7c7b49239ff7",
   "metadata": {},
   "outputs": [],
   "source": []
  }
 ],
 "metadata": {
  "kernelspec": {
   "display_name": "Python 3 (ipykernel)",
   "language": "python",
   "name": "python3"
  },
  "language_info": {
   "codemirror_mode": {
    "name": "ipython",
    "version": 3
   },
   "file_extension": ".py",
   "mimetype": "text/x-python",
   "name": "python",
   "nbconvert_exporter": "python",
   "pygments_lexer": "ipython3",
   "version": "3.9.18"
  }
 },
 "nbformat": 4,
 "nbformat_minor": 5
}
