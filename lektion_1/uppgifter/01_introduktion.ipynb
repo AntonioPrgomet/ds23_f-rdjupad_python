{
 "cells": [
  {
   "cell_type": "markdown",
   "id": "99fdf965-6382-4144-b08f-30fea759de05",
   "metadata": {},
   "source": [
    "# Uppgifter, Kapitel 1 - Introduktion till Python"
   ]
  },
  {
   "cell_type": "markdown",
   "id": "796283db-be36-4d2d-abd2-f8e147f182eb",
   "metadata": {},
   "source": [
    "1. Vem skapades Python av? "
   ]
  },
  {
   "cell_type": "code",
   "execution_count": null,
   "id": "ae8d83aa-092a-40c1-b328-0a9b45cfa6df",
   "metadata": {},
   "outputs": [],
   "source": []
  },
  {
   "cell_type": "markdown",
   "id": "4f025f53-2d4e-4f42-a5c8-5ee7227dfe6b",
   "metadata": {},
   "source": [
    "2. Python versioner skrivs enligt notationen \"A.B.C\", vad står A, B respektive C för? "
   ]
  },
  {
   "cell_type": "code",
   "execution_count": null,
   "id": "ac62cad7-84da-4c85-baf7-10e9f714098b",
   "metadata": {},
   "outputs": [],
   "source": []
  },
  {
   "cell_type": "markdown",
   "id": "aeacca67-7513-4466-91ab-b1926ac4ee7b",
   "metadata": {},
   "source": [
    "3. Vad är en virtuell utvecklingsmiljö? "
   ]
  },
  {
   "cell_type": "code",
   "execution_count": null,
   "id": "edc4f4d4-9e87-4a0a-959f-c90813e56b7d",
   "metadata": {},
   "outputs": [],
   "source": []
  }
 ],
 "metadata": {
  "kernelspec": {
   "display_name": "Python 3 (ipykernel)",
   "language": "python",
   "name": "python3"
  },
  "language_info": {
   "codemirror_mode": {
    "name": "ipython",
    "version": 3
   },
   "file_extension": ".py",
   "mimetype": "text/x-python",
   "name": "python",
   "nbconvert_exporter": "python",
   "pygments_lexer": "ipython3",
   "version": "3.9.18"
  }
 },
 "nbformat": 4,
 "nbformat_minor": 5
}
