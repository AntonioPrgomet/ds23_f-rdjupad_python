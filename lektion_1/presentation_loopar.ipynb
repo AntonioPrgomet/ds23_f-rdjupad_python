{
 "cells": [
  {
   "cell_type": "markdown",
   "id": "58082e10-086f-481f-937a-f210689d303a",
   "metadata": {},
   "source": [
    "# Loopar"
   ]
  },
  {
   "cell_type": "markdown",
   "id": "51c31564-5f4d-435e-8a3e-a0e5e11e3b9d",
   "metadata": {},
   "source": [
    "## `for`-loopar"
   ]
  },
  {
   "cell_type": "code",
   "execution_count": null,
   "id": "027a77e0-8ba3-45cf-b6dd-b78ddb3abeaf",
   "metadata": {},
   "outputs": [],
   "source": [
    "for i in range(10):\n",
    "    print(i)"
   ]
  },
  {
   "cell_type": "code",
   "execution_count": null,
   "id": "bdc91e7d-8f49-4a24-b979-910caed5b2fc",
   "metadata": {},
   "outputs": [],
   "source": [
    "for i in range(10):\n",
    "    print(i**2)"
   ]
  },
  {
   "cell_type": "code",
   "execution_count": null,
   "id": "22c8bc97-6f77-4cf5-99c8-1c2b653ffd35",
   "metadata": {},
   "outputs": [],
   "source": [
    "fruits = ['apple', 'orange', 'banana']\n",
    "\n",
    "for fruit in fruits:\n",
    "    if fruit.startswith('a'):\n",
    "        print(fruit.upper())\n",
    "    else:\n",
    "        print(fruit)"
   ]
  },
  {
   "cell_type": "markdown",
   "id": "84589882",
   "metadata": {},
   "source": [
    "Iterationsvariabeln finns kvar utanför loopen och pekar på det sista elementet."
   ]
  },
  {
   "cell_type": "code",
   "execution_count": null,
   "id": "eb05b829-d2ac-4524-9578-1b6bb7bbc1fa",
   "metadata": {},
   "outputs": [],
   "source": [
    "fruit"
   ]
  },
  {
   "cell_type": "code",
   "execution_count": null,
   "id": "8a39e4af",
   "metadata": {},
   "outputs": [],
   "source": [
    "b = 'Hello, World!'\n",
    "\n",
    "for c in b:\n",
    "    if c.isupper():\n",
    "        print(c)"
   ]
  },
  {
   "cell_type": "code",
   "execution_count": null,
   "id": "be8ba696-ad00-4f5d-b35c-0588a69b16ff",
   "metadata": {},
   "outputs": [],
   "source": [
    "results = {'Student 1': 23, 'Student 2': 18, 'Student 3': 20}"
   ]
  },
  {
   "cell_type": "code",
   "execution_count": null,
   "id": "24e1395b-ed51-4788-af52-16071987bbc6",
   "metadata": {},
   "outputs": [],
   "source": [
    "for student in results.keys():\n",
    "    print(student)"
   ]
  },
  {
   "cell_type": "code",
   "execution_count": null,
   "id": "b2b44d3a-7650-4d28-b448-4e64170b24c0",
   "metadata": {},
   "outputs": [],
   "source": [
    "for result in results.values():\n",
    "    print(result)"
   ]
  },
  {
   "cell_type": "code",
   "execution_count": null,
   "id": "f3742606-3a66-42ed-8825-5a4d1085a505",
   "metadata": {},
   "outputs": [],
   "source": [
    "for (student, result) in results.items():\n",
    "    print(f'{student} fick {result} poäng.')"
   ]
  },
  {
   "cell_type": "markdown",
   "id": "48455a8d-17ef-47c5-8d82-9d1400aa4a99",
   "metadata": {},
   "source": [
    "## `while`-loopar"
   ]
  },
  {
   "cell_type": "code",
   "execution_count": null,
   "id": "1ef8a0c3-8f15-4350-928c-addb07dca19f",
   "metadata": {},
   "outputs": [],
   "source": [
    "i = 0\n",
    "\n",
    "while i < 15:\n",
    "    print(i)\n",
    "    i += 1\n",
    "    if i > 7:\n",
    "        break\n",
    "    "
   ]
  },
  {
   "cell_type": "code",
   "execution_count": null,
   "id": "1d645c09-9b0d-486d-803d-da2570881f08",
   "metadata": {},
   "outputs": [],
   "source": [
    "i = 0\n",
    "\n",
    "while True:\n",
    "    if i % 2 == 0:\n",
    "        i += 1\n",
    "        continue\n",
    "    print(i)\n",
    "    i += 1\n",
    "    if i > 7:\n",
    "        break"
   ]
  },
  {
   "cell_type": "code",
   "execution_count": null,
   "id": "665e49a1-6af3-472e-b941-5463083ff81e",
   "metadata": {},
   "outputs": [],
   "source": []
  }
 ],
 "metadata": {
  "kernelspec": {
   "display_name": "Python 3 (ipykernel)",
   "language": "python",
   "name": "python3"
  },
  "language_info": {
   "codemirror_mode": {
    "name": "ipython",
    "version": 3
   },
   "file_extension": ".py",
   "mimetype": "text/x-python",
   "name": "python",
   "nbconvert_exporter": "python",
   "pygments_lexer": "ipython3",
   "version": "3.12.4"
  }
 },
 "nbformat": 4,
 "nbformat_minor": 5
}
