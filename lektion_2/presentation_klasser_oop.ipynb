{
  "cells": [
    {
      "cell_type": "markdown",
      "metadata": {},
      "source": [
        "# Klasser och objektorienterad programmering\n"
      ]
    },
    {
      "cell_type": "markdown",
      "metadata": {},
      "source": [
        "## Klasser i Python\n",
        "\n",
        "Vi har tidigare lärt oss att all data i Python representeras av **objekt**, och att dessa objekt är av olika **datatyper**.\n",
        "\n",
        "**Klass** är ett annat ord för just datatyp. Vi skulle precis lika gärna kunna säga att all data i Python representeras av objekt, och att dessa objekt tillhör olika **klasser**.\n",
        "\n",
        "Vi kan skapa egna klasser i Python. Vad vi gör då är att vi definierar en ny datatyp. Vi bör också ange vilka attribut och metoder som ska vara tillgängliga för den nya datatypen.\n",
        "\n",
        "Ett exempel kan vara en bok på ett bibliotek."
      ]
    },
    {
      "cell_type": "code",
      "execution_count": 86,
      "metadata": {},
      "outputs": [],
      "source": [
        "class Book:\n",
        "    library = 'The School Library'\n",
        "    def __init__(self, title: str, author: str, available: bool=True):\n",
        "        self.title = title\n",
        "        self.author = author\n",
        "        self.available = available\n",
        "    \n",
        "    def checkout(self):\n",
        "        if self.available:\n",
        "            self.available = False\n",
        "            print(f'You checked out {self.title} from {self.library}.')\n",
        "        else:\n",
        "            print(f'{self.title} is not available at {self.library}.')\n",
        "\n",
        "    def __repr__(self):\n",
        "        return f'[__repr__] [{self.library}] {self.author}: {self.title} [{\"Available\" if self.available else \"Not available\"}]'\n",
        "    \n",
        "    def __str__(self):\n",
        "        return f'[__str__] [{self.library}] {self.author}: {self.title} [{\"Available\" if self.available else \"Not available\"}]'"
      ]
    },
    {
      "cell_type": "code",
      "execution_count": 87,
      "metadata": {},
      "outputs": [],
      "source": [
        "my_book = Book(title='A Wizard of Earthsea', author='Ursula K. Le Guin')"
      ]
    },
    {
      "cell_type": "code",
      "execution_count": 90,
      "metadata": {},
      "outputs": [
        {
          "name": "stdout",
          "output_type": "stream",
          "text": [
            "[__str__] [The School Library] Ursula K. Le Guin: A Wizard of Earthsea [Available]\n"
          ]
        }
      ],
      "source": [
        "print(my_book)"
      ]
    },
    {
      "cell_type": "code",
      "execution_count": 91,
      "metadata": {},
      "outputs": [
        {
          "data": {
            "text/plain": [
              "[__repr__] [The School Library] Ursula K. Le Guin: A Wizard of Earthsea [Available]"
            ]
          },
          "execution_count": 91,
          "metadata": {},
          "output_type": "execute_result"
        }
      ],
      "source": [
        "my_book"
      ]
    },
    {
      "cell_type": "code",
      "execution_count": 106,
      "metadata": {},
      "outputs": [
        {
          "data": {
            "text/plain": [
              "'A Wizard of Earthsea'"
            ]
          },
          "execution_count": 106,
          "metadata": {},
          "output_type": "execute_result"
        }
      ],
      "source": [
        "my_book.title"
      ]
    },
    {
      "cell_type": "code",
      "execution_count": 107,
      "metadata": {},
      "outputs": [],
      "source": [
        "my_book.title = 'Some other title'"
      ]
    },
    {
      "cell_type": "code",
      "execution_count": 93,
      "metadata": {},
      "outputs": [
        {
          "data": {
            "text/plain": [
              "'Ursula K. Le Guin'"
            ]
          },
          "execution_count": 93,
          "metadata": {},
          "output_type": "execute_result"
        }
      ],
      "source": [
        "my_book.author"
      ]
    },
    {
      "cell_type": "code",
      "execution_count": 95,
      "metadata": {},
      "outputs": [
        {
          "data": {
            "text/plain": [
              "True"
            ]
          },
          "execution_count": 95,
          "metadata": {},
          "output_type": "execute_result"
        }
      ],
      "source": [
        "my_book.available"
      ]
    },
    {
      "cell_type": "code",
      "execution_count": 96,
      "metadata": {},
      "outputs": [
        {
          "name": "stdout",
          "output_type": "stream",
          "text": [
            "You checked out A Wizard of Earthsea from The School Library.\n"
          ]
        }
      ],
      "source": [
        "my_book.checkout()"
      ]
    },
    {
      "cell_type": "code",
      "execution_count": 97,
      "metadata": {},
      "outputs": [
        {
          "name": "stdout",
          "output_type": "stream",
          "text": [
            "A Wizard of Earthsea is not available at The School Library.\n"
          ]
        }
      ],
      "source": [
        "my_book.checkout()"
      ]
    },
    {
      "cell_type": "code",
      "execution_count": 108,
      "metadata": {},
      "outputs": [
        {
          "data": {
            "text/plain": [
              "[__repr__] [The School Library] Ursula K. Le Guin: Some other title [Not available]"
            ]
          },
          "execution_count": 108,
          "metadata": {},
          "output_type": "execute_result"
        }
      ],
      "source": [
        "my_book"
      ]
    },
    {
      "cell_type": "code",
      "execution_count": 100,
      "metadata": {},
      "outputs": [
        {
          "data": {
            "text/plain": [
              "mappingproxy({'__module__': '__main__',\n",
              "              'library': 'The School Library',\n",
              "              '__init__': <function __main__.Book.__init__(self, title: str, author: str, available: bool = True)>,\n",
              "              'checkout': <function __main__.Book.checkout(self)>,\n",
              "              '__repr__': <function __main__.Book.__repr__(self)>,\n",
              "              '__str__': <function __main__.Book.__str__(self)>,\n",
              "              '__dict__': <attribute '__dict__' of 'Book' objects>,\n",
              "              '__weakref__': <attribute '__weakref__' of 'Book' objects>,\n",
              "              '__doc__': None})"
            ]
          },
          "execution_count": 100,
          "metadata": {},
          "output_type": "execute_result"
        }
      ],
      "source": [
        "Book.__dict__"
      ]
    },
    {
      "cell_type": "code",
      "execution_count": 101,
      "metadata": {},
      "outputs": [],
      "source": [
        "books = [{'title': 'Title 1', 'author': 'Author 1'}, {'title': 'Title 2', 'author': 'Author 2'}]"
      ]
    },
    {
      "cell_type": "code",
      "execution_count": 102,
      "metadata": {},
      "outputs": [
        {
          "name": "stdout",
          "output_type": "stream",
          "text": [
            "{'title': 'Title 1', 'author': 'Author 1'}\n",
            "{'title': 'Title 2', 'author': 'Author 2'}\n"
          ]
        }
      ],
      "source": [
        "for book in books:\n",
        "    print(book)"
      ]
    },
    {
      "cell_type": "code",
      "execution_count": 103,
      "metadata": {},
      "outputs": [],
      "source": [
        "book_instances = []\n",
        "for book in books:\n",
        "    book_instances.append(Book(title=book['title'], author=book['author']))"
      ]
    },
    {
      "cell_type": "code",
      "execution_count": 105,
      "metadata": {},
      "outputs": [
        {
          "data": {
            "text/plain": [
              "[[__repr__] [The School Library] Author 1: Title 1 [Available]]"
            ]
          },
          "execution_count": 105,
          "metadata": {},
          "output_type": "execute_result"
        }
      ],
      "source": [
        "[book for book in book_instances if book.title == 'Title 1']"
      ]
    },
    {
      "cell_type": "markdown",
      "metadata": {},
      "source": [
        "\n",
        "## Objektorienterad programmering (OOP)\n",
        "OOP är ett *paradigm*, det vill säga ett sätt att tänka kring och organisera kod.\n",
        "\n",
        "Grundtanken är att allting är objekt, och att dessa objekt har unika attribut och metoder.\n",
        "\n",
        "Här ska vi går igenom fyra centrala koncept inom OOP:\n",
        "\n",
        "* inkapsling\n",
        "* arv\n",
        "* polymorfism\n",
        "* abstraktion\n"
      ]
    },
    {
      "cell_type": "markdown",
      "metadata": {},
      "source": [
        "\n",
        "## Inkapsling\n",
        "**Inkapsling** innebär att ett objekts attribut och inre logik är dolda för omvärlden. Det kallas att attributen är *privata* eller *skyddade*.\n",
        "\n",
        "Objektets *publika metoder* är det enda som andra objekt har tillgång till för att läsa och ändra objektets attribut.\n",
        "\n",
        "Oftast består dessa publika metoder av *getter*- och *setter*-metoder.\n",
        "\n",
        "Vi skapar privata attribut genom att skriva dubbla understreck `__` framför namnet. De är bara tillgängliga inifrån klassen själv.\n",
        "\n",
        "Skyddade attribut skapas genom enkla understreck, `_` framför namnet. De är tillgängliga inifrån klassen själv och klassens underklasser."
      ]
    },
    {
      "cell_type": "code",
      "execution_count": 109,
      "metadata": {},
      "outputs": [],
      "source": [
        "class Book:\n",
        "    __library = 'The School Library'\n",
        "    def __init__(self, title, author):\n",
        "        self.__title = title\n",
        "        self.__author = author\n",
        "        self.__available = True\n",
        "\n",
        "    def get_title(self):\n",
        "        return self.__title\n",
        "\n",
        "    def get_author(self):\n",
        "        return self.__author\n",
        "\n",
        "    def is_available(self):\n",
        "        return self.__available\n",
        "\n",
        "    def checkout(self):\n",
        "        if self.is_available():\n",
        "            self.__available = False\n",
        "            print(f'You checked out {self.__title} from {self.__library}.')\n",
        "        else:\n",
        "            print(f'{self.__title} is not available at {self.__library}.')\n",
        "\n",
        "    def __str__(self):\n",
        "        return f'[{self.__library}] {self.__author}: {self.__title} [{\"Available\" if self.is_available() else \"Not available\"}]'"
      ]
    },
    {
      "cell_type": "code",
      "execution_count": 110,
      "metadata": {},
      "outputs": [],
      "source": [
        "my_book = Book(title='Perdido Street Station', author='China Miéville')"
      ]
    },
    {
      "cell_type": "code",
      "execution_count": 112,
      "metadata": {},
      "outputs": [
        {
          "name": "stdout",
          "output_type": "stream",
          "text": [
            "[The School Library] China Miéville: Perdido Street Station [Available]\n"
          ]
        }
      ],
      "source": [
        "print(my_book)"
      ]
    },
    {
      "cell_type": "code",
      "execution_count": 113,
      "metadata": {},
      "outputs": [
        {
          "ename": "AttributeError",
          "evalue": "'Book' object has no attribute '__title'",
          "output_type": "error",
          "traceback": [
            "\u001b[0;31m---------------------------------------------------------------------------\u001b[0m",
            "\u001b[0;31mAttributeError\u001b[0m                            Traceback (most recent call last)",
            "Cell \u001b[0;32mIn[113], line 1\u001b[0m\n\u001b[0;32m----> 1\u001b[0m \u001b[43mmy_book\u001b[49m\u001b[38;5;241;43m.\u001b[39;49m\u001b[43m__title\u001b[49m\n",
            "\u001b[0;31mAttributeError\u001b[0m: 'Book' object has no attribute '__title'"
          ]
        }
      ],
      "source": [
        "my_book.__title"
      ]
    },
    {
      "cell_type": "markdown",
      "metadata": {},
      "source": [
        "Vi kan använda objektets publika metoder."
      ]
    },
    {
      "cell_type": "code",
      "execution_count": 114,
      "metadata": {},
      "outputs": [
        {
          "data": {
            "text/plain": [
              "'Perdido Street Station'"
            ]
          },
          "execution_count": 114,
          "metadata": {},
          "output_type": "execute_result"
        }
      ],
      "source": [
        "my_book.get_title()"
      ]
    },
    {
      "cell_type": "code",
      "execution_count": 115,
      "metadata": {},
      "outputs": [
        {
          "data": {
            "text/plain": [
              "'China Miéville'"
            ]
          },
          "execution_count": 115,
          "metadata": {},
          "output_type": "execute_result"
        }
      ],
      "source": [
        "my_book.get_author()"
      ]
    },
    {
      "cell_type": "code",
      "execution_count": 116,
      "metadata": {},
      "outputs": [
        {
          "data": {
            "text/plain": [
              "True"
            ]
          },
          "execution_count": 116,
          "metadata": {},
          "output_type": "execute_result"
        }
      ],
      "source": [
        "my_book.is_available()"
      ]
    },
    {
      "cell_type": "code",
      "execution_count": 117,
      "metadata": {},
      "outputs": [
        {
          "name": "stdout",
          "output_type": "stream",
          "text": [
            "You checked out Perdido Street Station from The School Library.\n"
          ]
        }
      ],
      "source": [
        "my_book.checkout()"
      ]
    },
    {
      "cell_type": "markdown",
      "metadata": {},
      "source": [
        "Privata attribut existerar dock inte egentligen i Python - de är tillgängliga för den som vet var man ska leta.\n",
        "\n",
        "Attribut med `__` före namnet döps om till `_classname__attribute`."
      ]
    },
    {
      "cell_type": "code",
      "execution_count": 118,
      "metadata": {
        "output-location": "fragment"
      },
      "outputs": [
        {
          "data": {
            "text/plain": [
              "'Perdido Street Station'"
            ]
          },
          "execution_count": 118,
          "metadata": {},
          "output_type": "execute_result"
        }
      ],
      "source": [
        "my_book._Book__title # pyright: ignore[reportAttributeAccessIssue]"
      ]
    },
    {
      "cell_type": "markdown",
      "metadata": {},
      "source": [
        "## Arv\n",
        "\n",
        "Ett annat grundläggande koncept inom OOP är **arv** - att objekt kan ärva egenskaper av andra objekt genom det som kallas *subclassing*, alltså att skapa underklasser.\n",
        "\n",
        "Här nedan ser vi ett exempel på en överklass - `Employee` - och två underklasser som representerar tillvidareanställda och projektanställda.\n",
        "\n",
        "Den här gången kan vi inte skapa privata attribut - då är de inte tillgängliga för underklasserna. Vi kan skapa skyddade attribut istället. Till skillnad från `Book`-klassen har attributen bara ett understreck före namnet.\n",
        "\n",
        "Vissa attribut är gemensamma för båda underklasserna, men `Project`-klassen har också ett attribut för när anställningen upphör (`_date_terminated`), en metod för att kontrollera om anställningen fortfarande pågår (`is_employed()`), och en egen version av metoden `pay_salary()`.\n"
      ]
    },
    {
      "cell_type": "code",
      "execution_count": null,
      "metadata": {},
      "outputs": [],
      "source": [
        "from datetime import date\n",
        "\n",
        "class Employee:\n",
        "    def __init__(self, name: str, salary: int, date_employed: date) -> None:\n",
        "        self._name = name\n",
        "        self._salary = salary\n",
        "        self._date_employed = date_employed\n",
        "\n",
        "    def get_name(self):\n",
        "        return self._name\n",
        "\n",
        "    def get_salary(self):\n",
        "        return self._salary\n",
        "\n",
        "    def pay_salary(self):\n",
        "        \"\"\" Transfer money to Employee bank account.\"\"\"\n",
        "        print(f'Paying {self._salary} to {self._name}.')\n"
      ]
    },
    {
      "cell_type": "code",
      "execution_count": null,
      "metadata": {},
      "outputs": [],
      "source": [
        "class Permanent(Employee):\n",
        "    def __init__(self, name, salary, date_employed) -> None:\n",
        "        super().__init__(name, salary, date_employed)"
      ]
    },
    {
      "cell_type": "code",
      "execution_count": null,
      "metadata": {},
      "outputs": [],
      "source": [
        "class Project(Employee):\n",
        "    def __init__(self, name, salary, date_employed, date_terminated) -> None:\n",
        "        super().__init__(name, salary, date_employed)\n",
        "        self.__date_terminated = date_terminated\n",
        "\n",
        "    def is_employed(self):\n",
        "        return date.today() <= self.__date_terminated\n",
        "    \n",
        "    def pay_salary(self):\n",
        "        if self.is_employed():\n",
        "            super().pay_salary()\n",
        "        else:\n",
        "            print(f'{self._name} is no longer employed.')"
      ]
    },
    {
      "cell_type": "code",
      "execution_count": 119,
      "metadata": {},
      "outputs": [],
      "source": [
        "employee_1 = Permanent(\n",
        "    name='Julia', \n",
        "    salary=44700, \n",
        "    date_employed=date(year=2019, month=4, day=13))"
      ]
    },
    {
      "cell_type": "code",
      "execution_count": 120,
      "metadata": {},
      "outputs": [
        {
          "data": {
            "text/plain": [
              "<__main__.Permanent at 0x7facb9580e90>"
            ]
          },
          "execution_count": 120,
          "metadata": {},
          "output_type": "execute_result"
        }
      ],
      "source": [
        "employee_1"
      ]
    },
    {
      "cell_type": "code",
      "execution_count": 122,
      "metadata": {},
      "outputs": [
        {
          "data": {
            "text/plain": [
              "'Julia'"
            ]
          },
          "execution_count": 122,
          "metadata": {},
          "output_type": "execute_result"
        }
      ],
      "source": [
        "employee_1.get_name()"
      ]
    },
    {
      "cell_type": "code",
      "execution_count": 121,
      "metadata": {},
      "outputs": [
        {
          "name": "stdout",
          "output_type": "stream",
          "text": [
            "Paying 44700 to Julia.\n"
          ]
        }
      ],
      "source": [
        "employee_1.pay_salary()"
      ]
    },
    {
      "cell_type": "code",
      "execution_count": 124,
      "metadata": {},
      "outputs": [],
      "source": [
        "employee_2 = Project(\n",
        "    name='Erik', \n",
        "    salary=42000, \n",
        "    date_employed=date(year=2024, month=3, day=15), \n",
        "    date_terminated=date(year=2025, month=4, day=1))"
      ]
    },
    {
      "cell_type": "code",
      "execution_count": 125,
      "metadata": {},
      "outputs": [
        {
          "name": "stdout",
          "output_type": "stream",
          "text": [
            "Paying 42000 to Erik.\n"
          ]
        }
      ],
      "source": [
        "employee_2.pay_salary()"
      ]
    },
    {
      "cell_type": "code",
      "execution_count": 126,
      "metadata": {},
      "outputs": [],
      "source": [
        "employee_3 = Project(\n",
        "    name='Fatima', \n",
        "    salary=38500, \n",
        "    date_employed=date(year=2021, month=10, day=30), \n",
        "    date_terminated=date(year=2024, month=5, day=1)\n",
        "    )"
      ]
    },
    {
      "cell_type": "code",
      "execution_count": 127,
      "metadata": {},
      "outputs": [
        {
          "name": "stdout",
          "output_type": "stream",
          "text": [
            "Fatima is no longer employed.\n"
          ]
        }
      ],
      "source": [
        "employee_3.pay_salary()"
      ]
    },
    {
      "cell_type": "code",
      "execution_count": 128,
      "metadata": {},
      "outputs": [
        {
          "data": {
            "text/plain": [
              "False"
            ]
          },
          "execution_count": 128,
          "metadata": {},
          "output_type": "execute_result"
        }
      ],
      "source": [
        "employee_3.is_employed()"
      ]
    },
    {
      "cell_type": "markdown",
      "metadata": {},
      "source": [
        "## Polymorfism\n",
        "*Polymorfism* - \"att ha många former\" - innebär att samma funktion innebär olika saker beroende på vilken typ av objekt den utförs på.\n",
        "\n",
        "Här nedan ser vi att operatorn `+` kan utföra olika operationer beroende på vilka datatyper den används på.\n",
        "\n",
        "Det kallas för *operator overloading*."
      ]
    },
    {
      "cell_type": "code",
      "execution_count": 129,
      "metadata": {},
      "outputs": [
        {
          "data": {
            "text/plain": [
              "9"
            ]
          },
          "execution_count": 129,
          "metadata": {},
          "output_type": "execute_result"
        }
      ],
      "source": [
        "2 + 7"
      ]
    },
    {
      "cell_type": "code",
      "execution_count": 130,
      "metadata": {},
      "outputs": [
        {
          "data": {
            "text/plain": [
              "14.780000000000001"
            ]
          },
          "execution_count": 130,
          "metadata": {},
          "output_type": "execute_result"
        }
      ],
      "source": [
        "2.54 + 12.24"
      ]
    },
    {
      "cell_type": "code",
      "execution_count": 131,
      "metadata": {},
      "outputs": [
        {
          "data": {
            "text/plain": [
              "'hello world!'"
            ]
          },
          "execution_count": 131,
          "metadata": {},
          "output_type": "execute_result"
        }
      ],
      "source": [
        "'hello ' + 'world!'"
      ]
    },
    {
      "cell_type": "code",
      "execution_count": 132,
      "metadata": {},
      "outputs": [
        {
          "data": {
            "text/plain": [
              "'164'"
            ]
          },
          "execution_count": 132,
          "metadata": {},
          "output_type": "execute_result"
        }
      ],
      "source": [
        "'16' + '4'"
      ]
    },
    {
      "cell_type": "code",
      "execution_count": 133,
      "metadata": {},
      "outputs": [
        {
          "data": {
            "text/plain": [
              "[2, 4, 5.55, 9.8, 6, 12]"
            ]
          },
          "execution_count": 133,
          "metadata": {},
          "output_type": "execute_result"
        }
      ],
      "source": [
        "[2, 4, 5.55] + [9.8, 6, 12]"
      ]
    },
    {
      "cell_type": "markdown",
      "metadata": {},
      "source": [
        "Ett annat exempel på polymorfism såg vi i exemplet ovan om subklasser, när `Project`-klassen ändrar på `pay_salary()`-metoden.\n",
        "\n",
        "När en subklass skriver över en metod från en superklass kallas det *method overriding*."
      ]
    },
    {
      "cell_type": "markdown",
      "metadata": {},
      "source": [
        "## Abstraktion - *abstraction*\n",
        "Principen om **abstraktion** bygger vidare på enkapsulering-principen ovan. Det handlar om att varje objekt ska fokusera på precis det som objektet är tänkt att göra och ingenting annat. Ett objekts publika metoder ska bara bestå av de metoder som behövs för att en användare ska kunna använda objektet. Alla andra attribut och metoder ska vara privata. Vi kan se på ett exempel."
      ]
    },
    {
      "cell_type": "code",
      "execution_count": null,
      "metadata": {},
      "outputs": [],
      "source": [
        "class Book:\n",
        "    __library = 'The School Library'\n",
        "    def __init__(self, title, author):\n",
        "        self.__title = title\n",
        "        self.__author = author\n",
        "        self.__available = True\n",
        "\n",
        "    def get_title(self):\n",
        "        return self.__title\n",
        "\n",
        "    def get_author(self):\n",
        "        return self.__author\n",
        "\n",
        "    def __is_available(self):\n",
        "        return self.__available\n",
        "\n",
        "    def checkout(self):\n",
        "        if self.__is_available():\n",
        "            self.__available = False\n",
        "            print(f'You checked out {self.__title} from {self.__library}.')\n",
        "        else:\n",
        "            print(f'{self.__title} is not available at {self.__library}.')\n",
        "\n",
        "    def __str__(self):\n",
        "        return f'[{self.__library}] {self.__author}: {self.__title} [{\"Available\" if self.__is_available() else \"Not available\"}]'"
      ]
    },
    {
      "cell_type": "markdown",
      "metadata": {},
      "source": [
        "\n",
        "Metoden `__is_available()` är inte menad att användas utanför klassen `Book` och definieras därför som en privat metod."
      ]
    },
    {
      "cell_type": "code",
      "execution_count": null,
      "metadata": {},
      "outputs": [],
      "source": [
        "my_book = Book(title='Ancillary Justice', author='Ann Leckie')"
      ]
    },
    {
      "cell_type": "markdown",
      "metadata": {},
      "source": [
        "Metoden `__is_available()` är definierad som en privat metod och är inte direkt tillgänglig på instansen `my_book`."
      ]
    },
    {
      "cell_type": "code",
      "execution_count": null,
      "metadata": {},
      "outputs": [],
      "source": [
        "my_book.__is_available()"
      ]
    },
    {
      "cell_type": "markdown",
      "metadata": {},
      "source": [
        "Här har vi i korthet gått igenom objektorienterad programmering och fyra grundläggande principer inom paradigmet.\n"
      ]
    }
  ],
  "metadata": {
    "kernelspec": {
      "display_name": "Python 3 (ipykernel)",
      "language": "python",
      "name": "python3",
      "path": "/home/linus/.local/share/jupyter/kernels/python3"
    },
    "language_info": {
      "codemirror_mode": {
        "name": "ipython",
        "version": 3
      },
      "file_extension": ".py",
      "mimetype": "text/x-python",
      "name": "python",
      "nbconvert_exporter": "python",
      "pygments_lexer": "ipython3",
      "version": "3.12.4"
    }
  },
  "nbformat": 4,
  "nbformat_minor": 4
}
