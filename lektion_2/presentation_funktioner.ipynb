{
  "cells": [
    {
      "cell_type": "markdown",
      "metadata": {},
      "source": [
        "## Funktioner\n",
        "**Funktioner** är ett sätt att skriva återanvändbar kod.\n",
        "\n",
        "## Att definiera en funktion"
      ]
    },
    {
      "cell_type": "code",
      "execution_count": null,
      "metadata": {},
      "outputs": [],
      "source": [
        "def add_two_numbers(a, b):\n",
        "    print(a + b)"
      ]
    },
    {
      "cell_type": "markdown",
      "metadata": {},
      "source": [
        "Här ovan definierar vi en funktion som heter `add_two_numbers`, som har två *parametrar*: `a` och `b`. Funktionen skriver ut summan av värdena i parametrarna.\n",
        "\n",
        "Vi använder nyckelordet `def` för att definiera en funktion.\n",
        "\n",
        "## Att anropa en funktion\n",
        "När vi anropar en funktion kallas värdena i parenteserna för *argument*."
      ]
    },
    {
      "cell_type": "code",
      "execution_count": null,
      "metadata": {
        "output-location": "fragment"
      },
      "outputs": [],
      "source": [
        "add_two_numbers(4, 19)"
      ]
    },
    {
      "cell_type": "markdown",
      "metadata": {},
      "source": [
        "Vi ser att funktionen `add_two_numbers` skriver ut summan av argumenten `4` och `9`, alltså `13`.\n",
        "\n",
        "## Returnera värden {.smaller}\n",
        "Ofta vill vi använda resultatet av en funktion någon annanstans i vår kod. Det kan vi inte göra med vår nuvarande funktion."
      ]
    },
    {
      "cell_type": "code",
      "execution_count": null,
      "metadata": {
        "output-location": "fragment"
      },
      "outputs": [],
      "source": [
        "result = add_two_numbers(4, 9)\n",
        "result * 3"
      ]
    },
    {
      "cell_type": "code",
      "execution_count": null,
      "metadata": {},
      "outputs": [],
      "source": [
        "print(result)"
      ]
    },
    {
      "cell_type": "markdown",
      "metadata": {},
      "source": [
        "Funktionen `add_two_numbers` skriver bara ut resultatet, men returnerar värdet `None`, som betyder *inget värde*."
      ]
    },
    {
      "cell_type": "code",
      "execution_count": null,
      "metadata": {},
      "outputs": [],
      "source": [
        "result = add_two_numbers(4, 9)\n",
        "print(result)"
      ]
    },
    {
      "cell_type": "markdown",
      "metadata": {},
      "source": [
        "## Returnera värden\n",
        "Funktionen behöver *returnera* resultatet."
      ]
    },
    {
      "cell_type": "code",
      "execution_count": null,
      "metadata": {},
      "outputs": [],
      "source": [
        "# Ändra add_two_numbers till att returnera resulatet efter att den skrivit ut det\n",
        "def add_two_numbers(a, b):\n",
        "    print(a + b)\n",
        "    return a + b"
      ]
    },
    {
      "cell_type": "markdown",
      "metadata": {},
      "source": [
        "Nu kan vi använda resultatet för vidare beräkningar."
      ]
    },
    {
      "cell_type": "code",
      "execution_count": null,
      "metadata": {
        "output-location": "fragment"
      },
      "outputs": [],
      "source": [
        "result = add_two_numbers(4, 9)\n",
        "result * 3"
      ]
    },
    {
      "cell_type": "code",
      "execution_count": null,
      "metadata": {},
      "outputs": [],
      "source": [
        "result"
      ]
    },
    {
      "cell_type": "markdown",
      "metadata": {},
      "source": [
        "`return` lämnar funktionen. Allt vi vill ska hända innan funktionen returnerar ett värde måste skrivas innan `return`."
      ]
    },
    {
      "cell_type": "code",
      "execution_count": null,
      "metadata": {},
      "outputs": [],
      "source": [
        "def add_two_numbers(a, b):\n",
        "    return a + b\n",
        "    print(a + b)  # Kommer aldrig att köras!"
      ]
    },
    {
      "cell_type": "code",
      "execution_count": null,
      "metadata": {},
      "outputs": [],
      "source": [
        "result = add_two_numbers(4, 9)\n",
        "result * 3"
      ]
    },
    {
      "cell_type": "markdown",
      "metadata": {},
      "source": [
        "## Argument\n",
        "Python skiljer på två typer av **argument**: *positionsargument* och *nyckelordsargument*.\n",
        "\n",
        "## Positionsargument\n",
        "**Positionsargument** måste anges före eventuella nyckelordsargument när vi anropar en funktion.\n",
        "\n",
        "De kan antingen anges var för sig:"
      ]
    },
    {
      "cell_type": "code",
      "execution_count": null,
      "metadata": {},
      "outputs": [],
      "source": [
        "add_two_numbers(3, 8)"
      ]
    },
    {
      "cell_type": "markdown",
      "metadata": {},
      "source": [
        "eller som en *iterable* om de föregås av en `*`."
      ]
    },
    {
      "cell_type": "code",
      "execution_count": null,
      "metadata": {},
      "outputs": [],
      "source": [
        "add_two_numbers(*[3, 8])"
      ]
    },
    {
      "cell_type": "code",
      "execution_count": null,
      "metadata": {},
      "outputs": [],
      "source": [
        "def mult_two_numbers(a, b):\n",
        "    return a * b"
      ]
    },
    {
      "cell_type": "code",
      "execution_count": null,
      "metadata": {},
      "outputs": [],
      "source": [
        "mult_two_numbers(3, 8)"
      ]
    },
    {
      "cell_type": "markdown",
      "metadata": {},
      "source": [
        "## Nyckelordsargument\n",
        "**Nyckelordsargument** föregås av en *identifierare* med samma namn som parametern."
      ]
    },
    {
      "cell_type": "code",
      "execution_count": null,
      "metadata": {},
      "outputs": [],
      "source": [
        "add_two_numbers(a=23, b=4)"
      ]
    },
    {
      "cell_type": "markdown",
      "metadata": {},
      "source": [
        "Vi kan också ange nyckelordsargument som en `dict` som föregås av `**`."
      ]
    },
    {
      "cell_type": "code",
      "execution_count": null,
      "metadata": {},
      "outputs": [],
      "source": [
        "mult_two_numbers(**{'a': 23, 'b': 4})"
      ]
    },
    {
      "cell_type": "markdown",
      "metadata": {},
      "source": [
        "## Nyckelordsargument\n",
        "Vi kan blanda positions- och nyckelordsargument."
      ]
    },
    {
      "cell_type": "code",
      "execution_count": null,
      "metadata": {},
      "outputs": [],
      "source": [
        "add_two_numbers(13, b=17)"
      ]
    },
    {
      "cell_type": "markdown",
      "metadata": {},
      "source": [
        ". . .\n",
        "\n",
        "Positionsargument måste dock som sagt komma före nyckelordsargument."
      ]
    },
    {
      "cell_type": "code",
      "execution_count": null,
      "metadata": {},
      "outputs": [],
      "source": [
        "add_two_numbers(a=3, b=16)"
      ]
    },
    {
      "cell_type": "markdown",
      "metadata": {},
      "source": [
        "## Standardargument\n",
        "När vi definierar en funktion kan vi ange **standardargument** som skickas till funktionen om inget annat argument anges."
      ]
    },
    {
      "cell_type": "code",
      "execution_count": null,
      "metadata": {
        "output-location": "fragment"
      },
      "outputs": [],
      "source": [
        "def greeting(name, phrase='Hello'):\n",
        "    print(f'{phrase}, {name}!')\n",
        "\n",
        "greeting('Kate')"
      ]
    },
    {
      "cell_type": "markdown",
      "metadata": {},
      "source": [
        "Vi kan ange en annan hälsingsfras genom att ange ett argument till parametern `phrase`."
      ]
    },
    {
      "cell_type": "code",
      "execution_count": null,
      "metadata": {
        "output-location": "fragment"
      },
      "outputs": [],
      "source": [
        "greeting(name='Jack', phrase=\"What's up\")"
      ]
    },
    {
      "cell_type": "code",
      "execution_count": null,
      "metadata": {},
      "outputs": [],
      "source": [
        "greeting('Jack', \"What's up\")"
      ]
    },
    {
      "cell_type": "markdown",
      "metadata": {},
      "source": [
        "## Standardargument\n",
        "Parametern `name` har inget standardargument och måste anges."
      ]
    },
    {
      "cell_type": "code",
      "execution_count": null,
      "metadata": {
        "output-location": "fragment"
      },
      "outputs": [],
      "source": [
        "greeting()"
      ]
    },
    {
      "cell_type": "markdown",
      "metadata": {},
      "source": [
        "# Parametrar\n",
        "Vi kan begränsa vilken typ av argument en funktion accepterar.\n",
        "\n",
        "## Sammanfattande exempel\n",
        "Generellt kan vi begränsa typerna av argument enligt följande mönster:"
      ]
    },
    {
      "cell_type": "code",
      "execution_count": null,
      "metadata": {},
      "outputs": [],
      "source": [
        "def f(pos_only, /, pos_or_keyword, *, keyword_only):\n",
        "    pass"
      ]
    },
    {
      "cell_type": "code",
      "execution_count": null,
      "metadata": {},
      "outputs": [],
      "source": [
        "def add_two_numbers(*, a, b):\n",
        "    return a + b"
      ]
    },
    {
      "cell_type": "code",
      "execution_count": null,
      "metadata": {},
      "outputs": [],
      "source": [
        "add_two_numbers(a=4, b=12)"
      ]
    },
    {
      "cell_type": "markdown",
      "metadata": {},
      "source": [
        "## Var-positionsparametrar\n",
        "Vi kan också ange att en funktion ska acceptera ett okänt antal positionsargument."
      ]
    },
    {
      "cell_type": "code",
      "execution_count": null,
      "metadata": {
        "output-location": "fragment"
      },
      "outputs": [],
      "source": [
        "def var_pos_params(*args):\n",
        "    for arg in args:\n",
        "        print(arg)\n",
        "\n",
        "var_pos_params('some', 'arguments', 11, 2.72)"
      ]
    },
    {
      "cell_type": "markdown",
      "metadata": {},
      "source": [
        "## Var-nyckelordsparametrar\n",
        "Den sista typen av parameter är var-nyckelordsparametrar. De låter oss ange ett okänt antal nyckelordsargument."
      ]
    },
    {
      "cell_type": "code",
      "execution_count": null,
      "metadata": {
        "output-location": "fragment"
      },
      "outputs": [],
      "source": [
        "def var_kw_params(**kwargs):\n",
        "    for key, val in kwargs.items():\n",
        "        print(key, val, sep=': ')\n",
        "\n",
        "var_kw_params(key_1='value 1', another_key='another value', x=42)"
      ]
    },
    {
      "cell_type": "markdown",
      "metadata": {},
      "source": [
        "## Enkla funktioner - `lambda`\n",
        "Ibland vill vi skapa enkla funktioner som inte ska återanvändas.\n",
        "\n",
        "Då kan vi använda `lambda`-syntaxen."
      ]
    },
    {
      "cell_type": "code",
      "execution_count": null,
      "metadata": {
        "output-location": "fragment"
      },
      "outputs": [],
      "source": [
        "rectangles = [(2, 6), (4, 3), (5, 1), (4, 4)]\n",
        "sorted(rectangles, key=lambda rect: rect[0] * rect[1])"
      ]
    },
    {
      "cell_type": "markdown",
      "metadata": {},
      "source": [
        "\n",
        "Om vi ska använda en funktion fler än en gång är det bättre att definiera den och namnge den som vi gjort tidigare.\n",
        "\n",
        "## Sammanfattning\n",
        "I den här presentationen har vi gått igenom funktioner i Python. Vi har sett hur vi definierar dem med `def` och hur vi anropar dem.\n",
        "\n",
        "Vi har tittat på olika typer av argument och parametrar, samt avslutningsvis tagit en titt på enkla `lambda`-funktioner."
      ]
    }
  ],
  "metadata": {
    "kernelspec": {
      "display_name": "Python 3 (ipykernel)",
      "language": "python",
      "name": "python3",
      "path": "/home/linus/.local/share/jupyter/kernels/python3"
    },
    "language_info": {
      "codemirror_mode": {
        "name": "ipython",
        "version": 3
      },
      "file_extension": ".py",
      "mimetype": "text/x-python",
      "name": "python",
      "nbconvert_exporter": "python",
      "pygments_lexer": "ipython3",
      "version": "3.10.12"
    }
  },
  "nbformat": 4,
  "nbformat_minor": 4
}
