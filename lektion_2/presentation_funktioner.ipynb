{
  "cells": [
    {
      "cell_type": "markdown",
      "metadata": {},
      "source": [
        "# Funktioner\n",
        "**Funktioner** är ett sätt att skriva återanvändbar kod.\n",
        "\n",
        "## Att definiera en funktion"
      ]
    },
    {
      "cell_type": "code",
      "execution_count": 86,
      "metadata": {},
      "outputs": [],
      "source": [
        "def add_two_numbers(a, b):\n",
        "    print(a + b)"
      ]
    },
    {
      "cell_type": "markdown",
      "metadata": {},
      "source": [
        "Här ovan definierar vi en funktion som heter `add_two_numbers`, som har två *parametrar*: `a` och `b`. Funktionen skriver ut summan av värdena i parametrarna.\n",
        "\n",
        "Vi använder nyckelordet `def` för att definiera en funktion.\n",
        "\n",
        "## Att anropa en funktion\n",
        "När vi anropar en funktion kallas värdena i parenteserna för *argument*."
      ]
    },
    {
      "cell_type": "code",
      "execution_count": 87,
      "metadata": {
        "output-location": "fragment"
      },
      "outputs": [
        {
          "name": "stdout",
          "output_type": "stream",
          "text": [
            "13\n"
          ]
        }
      ],
      "source": [
        "add_two_numbers(4, 9)"
      ]
    },
    {
      "cell_type": "markdown",
      "metadata": {},
      "source": [
        "Vi ser att funktionen `add_two_numbers` skriver ut summan av argumenten `4` och `9`, alltså `13`.\n",
        "\n",
        "## Returnera värden {.smaller}\n",
        "Ofta vill vi använda resultatet av en funktion någon annanstans i vår kod. Det kan vi inte göra med vår nuvarande funktion."
      ]
    },
    {
      "cell_type": "code",
      "execution_count": 88,
      "metadata": {
        "output-location": "fragment"
      },
      "outputs": [
        {
          "name": "stdout",
          "output_type": "stream",
          "text": [
            "13\n"
          ]
        },
        {
          "ename": "TypeError",
          "evalue": "unsupported operand type(s) for *: 'NoneType' and 'int'",
          "output_type": "error",
          "traceback": [
            "\u001b[0;31m---------------------------------------------------------------------------\u001b[0m",
            "\u001b[0;31mTypeError\u001b[0m                                 Traceback (most recent call last)",
            "Cell \u001b[0;32mIn[88], line 2\u001b[0m\n\u001b[1;32m      1\u001b[0m result \u001b[38;5;241m=\u001b[39m add_two_numbers(\u001b[38;5;241m4\u001b[39m, \u001b[38;5;241m9\u001b[39m)\n\u001b[0;32m----> 2\u001b[0m \u001b[43mresult\u001b[49m\u001b[43m \u001b[49m\u001b[38;5;241;43m*\u001b[39;49m\u001b[43m \u001b[49m\u001b[38;5;241;43m3\u001b[39;49m\n",
            "\u001b[0;31mTypeError\u001b[0m: unsupported operand type(s) for *: 'NoneType' and 'int'"
          ]
        }
      ],
      "source": [
        "result = add_two_numbers(4, 9)\n",
        "result * 3"
      ]
    },
    {
      "cell_type": "code",
      "execution_count": 89,
      "metadata": {},
      "outputs": [
        {
          "name": "stdout",
          "output_type": "stream",
          "text": [
            "None\n"
          ]
        }
      ],
      "source": [
        "print(result)"
      ]
    },
    {
      "cell_type": "markdown",
      "metadata": {},
      "source": [
        "Funktionen `add_two_numbers` skriver bara ut resultatet, men returnerar värdet `None`, som betyder *inget värde*."
      ]
    },
    {
      "cell_type": "code",
      "execution_count": 90,
      "metadata": {},
      "outputs": [
        {
          "name": "stdout",
          "output_type": "stream",
          "text": [
            "13\n",
            "None\n"
          ]
        }
      ],
      "source": [
        "result = add_two_numbers(4, 9)\n",
        "print(result)"
      ]
    },
    {
      "cell_type": "markdown",
      "metadata": {},
      "source": [
        "## Returnera värden\n",
        "Funktionen behöver *returnera* resultatet."
      ]
    },
    {
      "cell_type": "code",
      "execution_count": 91,
      "metadata": {},
      "outputs": [],
      "source": [
        "# Ändra add_two_numbers till att returnera resulatet efter att den skrivit ut det\n",
        "def add_two_numbers(a, b):\n",
        "    print(a + b)\n",
        "    return a + b"
      ]
    },
    {
      "cell_type": "markdown",
      "metadata": {},
      "source": [
        "Nu kan vi använda resultatet för vidare beräkningar."
      ]
    },
    {
      "cell_type": "code",
      "execution_count": 92,
      "metadata": {
        "output-location": "fragment"
      },
      "outputs": [
        {
          "name": "stdout",
          "output_type": "stream",
          "text": [
            "13\n"
          ]
        },
        {
          "data": {
            "text/plain": [
              "39"
            ]
          },
          "execution_count": 92,
          "metadata": {},
          "output_type": "execute_result"
        }
      ],
      "source": [
        "result = add_two_numbers(4, 9)\n",
        "result * 3"
      ]
    },
    {
      "cell_type": "code",
      "execution_count": 93,
      "metadata": {},
      "outputs": [
        {
          "data": {
            "text/plain": [
              "13"
            ]
          },
          "execution_count": 93,
          "metadata": {},
          "output_type": "execute_result"
        }
      ],
      "source": [
        "result"
      ]
    },
    {
      "cell_type": "markdown",
      "metadata": {},
      "source": [
        "`return` lämnar funktionen. Allt vi vill ska hända innan funktionen returnerar ett värde måste skrivas innan `return`."
      ]
    },
    {
      "cell_type": "code",
      "execution_count": 100,
      "metadata": {},
      "outputs": [],
      "source": [
        "def add_two_numbers(a, b):\n",
        "    return a + b\n",
        "    print(a + b)  # Kommer aldrig att köras!"
      ]
    },
    {
      "cell_type": "code",
      "execution_count": 96,
      "metadata": {},
      "outputs": [
        {
          "data": {
            "text/plain": [
              "39"
            ]
          },
          "execution_count": 96,
          "metadata": {},
          "output_type": "execute_result"
        }
      ],
      "source": [
        "result = add_two_numbers(4, 9)\n",
        "result * 3"
      ]
    },
    {
      "cell_type": "markdown",
      "metadata": {},
      "source": [
        "## Argument\n",
        "Python skiljer på två typer av **argument**: *positionsargument* och *nyckelordsargument*.\n",
        "\n",
        "## Positionsargument\n",
        "**Positionsargument** måste anges före eventuella nyckelordsargument när vi anropar en funktion.\n",
        "\n",
        "De kan antingen anges var för sig:"
      ]
    },
    {
      "cell_type": "code",
      "execution_count": 101,
      "metadata": {},
      "outputs": [
        {
          "data": {
            "text/plain": [
              "11"
            ]
          },
          "execution_count": 101,
          "metadata": {},
          "output_type": "execute_result"
        }
      ],
      "source": [
        "add_two_numbers(3, 8)"
      ]
    },
    {
      "cell_type": "markdown",
      "metadata": {},
      "source": [
        "eller som en *iterable* om de föregås av en `*`."
      ]
    },
    {
      "cell_type": "code",
      "execution_count": 107,
      "metadata": {},
      "outputs": [
        {
          "data": {
            "text/plain": [
              "11"
            ]
          },
          "execution_count": 107,
          "metadata": {},
          "output_type": "execute_result"
        }
      ],
      "source": [
        "add_two_numbers(*[3, 8])"
      ]
    },
    {
      "cell_type": "markdown",
      "metadata": {},
      "source": [
        "## Nyckelordsargument\n",
        "**Nyckelordsargument** föregås av en *identifierare* med samma namn som parametern."
      ]
    },
    {
      "cell_type": "code",
      "execution_count": 108,
      "metadata": {},
      "outputs": [],
      "source": [
        "def subtract_two_numbers(a, b):\n",
        "    return a - b"
      ]
    },
    {
      "cell_type": "code",
      "execution_count": 109,
      "metadata": {},
      "outputs": [
        {
          "data": {
            "text/plain": [
              "19"
            ]
          },
          "execution_count": 109,
          "metadata": {},
          "output_type": "execute_result"
        }
      ],
      "source": [
        "subtract_two_numbers(a=23, b=4)"
      ]
    },
    {
      "cell_type": "code",
      "execution_count": 110,
      "metadata": {},
      "outputs": [
        {
          "data": {
            "text/plain": [
              "-19"
            ]
          },
          "execution_count": 110,
          "metadata": {},
          "output_type": "execute_result"
        }
      ],
      "source": [
        "subtract_two_numbers(b=23, a=4)"
      ]
    },
    {
      "cell_type": "markdown",
      "metadata": {},
      "source": [
        "Vi kan också ange nyckelordsargument som en `dict` som föregås av `**`."
      ]
    },
    {
      "cell_type": "code",
      "execution_count": 113,
      "metadata": {},
      "outputs": [
        {
          "data": {
            "text/plain": [
              "19"
            ]
          },
          "execution_count": 113,
          "metadata": {},
          "output_type": "execute_result"
        }
      ],
      "source": [
        "subtract_two_numbers(**{'a': 23, 'b': 4})"
      ]
    },
    {
      "cell_type": "code",
      "execution_count": 134,
      "metadata": {},
      "outputs": [
        {
          "data": {
            "text/plain": [
              "('a', 'b')"
            ]
          },
          "execution_count": 134,
          "metadata": {},
          "output_type": "execute_result"
        }
      ],
      "source": [
        "subtract_two_numbers.__code__.co_varnames"
      ]
    },
    {
      "cell_type": "code",
      "execution_count": 135,
      "metadata": {},
      "outputs": [
        {
          "data": {
            "text/plain": [
              "{'a': 23, 'b': 4}"
            ]
          },
          "execution_count": 135,
          "metadata": {},
          "output_type": "execute_result"
        }
      ],
      "source": [
        "param_names = subtract_two_numbers.__code__.co_varnames\n",
        "vals = (23, 4)\n",
        "\n",
        "dict(zip(param_names, vals))"
      ]
    },
    {
      "cell_type": "code",
      "execution_count": 136,
      "metadata": {},
      "outputs": [
        {
          "data": {
            "text/plain": [
              "19"
            ]
          },
          "execution_count": 136,
          "metadata": {},
          "output_type": "execute_result"
        }
      ],
      "source": [
        "subtract_two_numbers(**dict(zip(param_names, vals)))"
      ]
    },
    {
      "cell_type": "markdown",
      "metadata": {},
      "source": [
        "Vi kan blanda positions- och nyckelordsargument."
      ]
    },
    {
      "cell_type": "code",
      "execution_count": 117,
      "metadata": {},
      "outputs": [
        {
          "data": {
            "text/plain": [
              "-4"
            ]
          },
          "execution_count": 117,
          "metadata": {},
          "output_type": "execute_result"
        }
      ],
      "source": [
        "subtract_two_numbers(13, b=17)"
      ]
    },
    {
      "cell_type": "code",
      "execution_count": 119,
      "metadata": {},
      "outputs": [
        {
          "ename": "TypeError",
          "evalue": "subtract_two_numbers() got multiple values for argument 'a'",
          "output_type": "error",
          "traceback": [
            "\u001b[0;31m---------------------------------------------------------------------------\u001b[0m",
            "\u001b[0;31mTypeError\u001b[0m                                 Traceback (most recent call last)",
            "Cell \u001b[0;32mIn[119], line 1\u001b[0m\n\u001b[0;32m----> 1\u001b[0m \u001b[43msubtract_two_numbers\u001b[49m\u001b[43m(\u001b[49m\u001b[38;5;241;43m42\u001b[39;49m\u001b[43m,\u001b[49m\u001b[43m \u001b[49m\u001b[43ma\u001b[49m\u001b[38;5;241;43m=\u001b[39;49m\u001b[38;5;241;43m12\u001b[39;49m\u001b[43m)\u001b[49m\n",
            "\u001b[0;31mTypeError\u001b[0m: subtract_two_numbers() got multiple values for argument 'a'"
          ]
        }
      ],
      "source": [
        "subtract_two_numbers(42, a=12)"
      ]
    },
    {
      "cell_type": "markdown",
      "metadata": {},
      "source": [
        "Positionsargument måste dock som sagt komma före nyckelordsargument."
      ]
    },
    {
      "cell_type": "code",
      "execution_count": 118,
      "metadata": {},
      "outputs": [
        {
          "ename": "SyntaxError",
          "evalue": "positional argument follows keyword argument (4181523301.py, line 1)",
          "output_type": "error",
          "traceback": [
            "\u001b[0;36m  Cell \u001b[0;32mIn[118], line 1\u001b[0;36m\u001b[0m\n\u001b[0;31m    subtract_two_numbers(a=3, 16)\u001b[0m\n\u001b[0m                                ^\u001b[0m\n\u001b[0;31mSyntaxError\u001b[0m\u001b[0;31m:\u001b[0m positional argument follows keyword argument\n"
          ]
        }
      ],
      "source": [
        "subtract_two_numbers(a=3, 16)"
      ]
    },
    {
      "cell_type": "markdown",
      "metadata": {},
      "source": [
        "## Standardargument\n",
        "När vi definierar en funktion kan vi ange **standardargument** som skickas till funktionen om inget annat argument anges."
      ]
    },
    {
      "cell_type": "code",
      "execution_count": 120,
      "metadata": {
        "output-location": "fragment"
      },
      "outputs": [
        {
          "name": "stdout",
          "output_type": "stream",
          "text": [
            "Hello, Kate!\n"
          ]
        }
      ],
      "source": [
        "def greeting(name, phrase='Hello'):\n",
        "    print(f'{phrase}, {name}!')\n",
        "\n",
        "greeting('Kate')"
      ]
    },
    {
      "cell_type": "markdown",
      "metadata": {},
      "source": [
        "Vi kan ange en annan hälsingsfras genom att ange ett argument till parametern `phrase`."
      ]
    },
    {
      "cell_type": "code",
      "execution_count": 121,
      "metadata": {
        "output-location": "fragment"
      },
      "outputs": [
        {
          "name": "stdout",
          "output_type": "stream",
          "text": [
            "What's up, Jack!\n"
          ]
        }
      ],
      "source": [
        "greeting(name='Jack', phrase=\"What's up\")"
      ]
    },
    {
      "cell_type": "code",
      "execution_count": 122,
      "metadata": {},
      "outputs": [
        {
          "name": "stdout",
          "output_type": "stream",
          "text": [
            "What's up, Jack!\n"
          ]
        }
      ],
      "source": [
        "greeting('Jack', \"What's up\")"
      ]
    },
    {
      "cell_type": "markdown",
      "metadata": {},
      "source": [
        "Parametern `name` har inget standardargument och måste anges."
      ]
    },
    {
      "cell_type": "code",
      "execution_count": 123,
      "metadata": {
        "output-location": "fragment"
      },
      "outputs": [
        {
          "ename": "TypeError",
          "evalue": "greeting() missing 1 required positional argument: 'name'",
          "output_type": "error",
          "traceback": [
            "\u001b[0;31m---------------------------------------------------------------------------\u001b[0m",
            "\u001b[0;31mTypeError\u001b[0m                                 Traceback (most recent call last)",
            "Cell \u001b[0;32mIn[123], line 1\u001b[0m\n\u001b[0;32m----> 1\u001b[0m \u001b[43mgreeting\u001b[49m\u001b[43m(\u001b[49m\u001b[43m)\u001b[49m\n",
            "\u001b[0;31mTypeError\u001b[0m: greeting() missing 1 required positional argument: 'name'"
          ]
        }
      ],
      "source": [
        "greeting()"
      ]
    },
    {
      "cell_type": "markdown",
      "metadata": {},
      "source": [
        "# Parametrar\n",
        "Vi kan begränsa vilken typ av argument en funktion accepterar.\n",
        "\n",
        "## Sammanfattande exempel\n",
        "Generellt kan vi begränsa typerna av argument enligt följande mönster:"
      ]
    },
    {
      "cell_type": "code",
      "execution_count": null,
      "metadata": {},
      "outputs": [],
      "source": [
        "def f(pos_only, /, pos_or_keyword, *, keyword_only):\n",
        "    pass"
      ]
    },
    {
      "cell_type": "code",
      "execution_count": 140,
      "metadata": {},
      "outputs": [],
      "source": [
        "def add_two_numbers(*, a, b):\n",
        "    return a + b"
      ]
    },
    {
      "cell_type": "code",
      "execution_count": 142,
      "metadata": {},
      "outputs": [
        {
          "ename": "TypeError",
          "evalue": "add_two_numbers() takes 0 positional arguments but 2 were given",
          "output_type": "error",
          "traceback": [
            "\u001b[0;31m---------------------------------------------------------------------------\u001b[0m",
            "\u001b[0;31mTypeError\u001b[0m                                 Traceback (most recent call last)",
            "Cell \u001b[0;32mIn[142], line 1\u001b[0m\n\u001b[0;32m----> 1\u001b[0m \u001b[43madd_two_numbers\u001b[49m\u001b[43m(\u001b[49m\u001b[38;5;241;43m4\u001b[39;49m\u001b[43m,\u001b[49m\u001b[43m \u001b[49m\u001b[38;5;241;43m12\u001b[39;49m\u001b[43m)\u001b[49m\n",
            "\u001b[0;31mTypeError\u001b[0m: add_two_numbers() takes 0 positional arguments but 2 were given"
          ]
        }
      ],
      "source": [
        "add_two_numbers(4, 12)"
      ]
    },
    {
      "cell_type": "markdown",
      "metadata": {},
      "source": [
        "## Var-positionsparametrar\n",
        "Vi kan också ange att en funktion ska acceptera ett okänt antal positionsargument."
      ]
    },
    {
      "cell_type": "code",
      "execution_count": 144,
      "metadata": {
        "output-location": "fragment"
      },
      "outputs": [
        {
          "name": "stdout",
          "output_type": "stream",
          "text": [
            "some\n",
            "arguments\n",
            "11\n",
            "2.72\n",
            "[4, 6]\n"
          ]
        }
      ],
      "source": [
        "def var_pos_params(*args):\n",
        "    for arg in args:\n",
        "        print(arg)\n",
        "\n",
        "var_pos_params('some', 'arguments', 11, 2.72, [4, 6])"
      ]
    },
    {
      "cell_type": "code",
      "execution_count": 149,
      "metadata": {},
      "outputs": [
        {
          "data": {
            "text/plain": [
              "1299"
            ]
          },
          "execution_count": 149,
          "metadata": {},
          "output_type": "execute_result"
        }
      ],
      "source": [
        "def add_any_number_of_numbers(*args):\n",
        "    return sum(args)\n",
        "\n",
        "add_any_number_of_numbers(42, 56, 1, 100, 100, 1000)"
      ]
    },
    {
      "cell_type": "code",
      "execution_count": 150,
      "metadata": {},
      "outputs": [],
      "source": [
        "def bird_counter(bird, *args):\n",
        "    bird_count = sum(args)\n",
        "    print(f'You found {bird_count} {bird}s!')"
      ]
    },
    {
      "cell_type": "code",
      "execution_count": 151,
      "metadata": {},
      "outputs": [
        {
          "name": "stdout",
          "output_type": "stream",
          "text": [
            "You found 15 Seagulls!\n"
          ]
        }
      ],
      "source": [
        "bird_counter('Seagull', 2, 4, 1, 2, 6)"
      ]
    },
    {
      "cell_type": "markdown",
      "metadata": {},
      "source": [
        "## Var-nyckelordsparametrar\n",
        "Den sista typen av parameter är var-nyckelordsparametrar. De låter oss ange ett okänt antal nyckelordsargument."
      ]
    },
    {
      "cell_type": "code",
      "execution_count": 152,
      "metadata": {
        "output-location": "fragment"
      },
      "outputs": [
        {
          "name": "stdout",
          "output_type": "stream",
          "text": [
            "<class 'dict'>\n",
            "key_1: value 1\n",
            "another_key: another value\n",
            "x: 42\n",
            "y: 98\n"
          ]
        }
      ],
      "source": [
        "def var_kw_params(**kwargs):\n",
        "    print(type(kwargs))\n",
        "    for key, val in kwargs.items():\n",
        "        print(key, val, sep=': ')\n",
        "\n",
        "var_kw_params(key_1='value 1', another_key='another value', x=42, y=98)"
      ]
    },
    {
      "cell_type": "markdown",
      "metadata": {},
      "source": [
        "## Enkla funktioner - `lambda`\n",
        "Ibland vill vi skapa enkla funktioner som inte ska återanvändas.\n",
        "\n",
        "Då kan vi använda `lambda`-syntaxen."
      ]
    },
    {
      "cell_type": "code",
      "execution_count": 153,
      "metadata": {
        "output-location": "fragment"
      },
      "outputs": [
        {
          "data": {
            "text/plain": [
              "[(5, 1), (2, 6), (4, 3), (4, 4)]"
            ]
          },
          "execution_count": 153,
          "metadata": {},
          "output_type": "execute_result"
        }
      ],
      "source": [
        "rectangles = [(2, 6), (4, 3), (5, 1), (4, 4)]\n",
        "\n",
        "sorted(rectangles, key=lambda rect: rect[0] * rect[1])"
      ]
    },
    {
      "cell_type": "code",
      "execution_count": 155,
      "metadata": {},
      "outputs": [
        {
          "data": {
            "text/plain": [
              "[(5, 1), (2, 6), (4, 3), (4, 4)]"
            ]
          },
          "execution_count": 155,
          "metadata": {},
          "output_type": "execute_result"
        }
      ],
      "source": [
        "area_as_lambda = lambda rect: rect[0] * rect[1]\n",
        "\n",
        "def area(rect):\n",
        "    return rect[0] * rect[1]\n",
        "\n",
        "sorted(rectangles, key=area)"
      ]
    },
    {
      "cell_type": "code",
      "execution_count": 156,
      "metadata": {},
      "outputs": [
        {
          "data": {
            "text/plain": [
              "28"
            ]
          },
          "execution_count": 156,
          "metadata": {},
          "output_type": "execute_result"
        }
      ],
      "source": [
        "area_as_lambda((4, 7))"
      ]
    },
    {
      "cell_type": "markdown",
      "metadata": {},
      "source": [
        "\n",
        "Om vi ska använda en funktion fler än en gång är det bättre att definiera den och namnge den som vi gjort tidigare.\n",
        "\n",
        "## Sammanfattning\n",
        "I den här presentationen har vi gått igenom funktioner i Python. Vi har sett hur vi definierar dem med `def` och hur vi anropar dem.\n",
        "\n",
        "Vi har tittat på olika typer av argument och parametrar, samt avslutningsvis tagit en titt på enkla `lambda`-funktioner."
      ]
    }
  ],
  "metadata": {
    "kernelspec": {
      "display_name": "Python 3 (ipykernel)",
      "language": "python",
      "name": "python3",
      "path": "/home/linus/.local/share/jupyter/kernels/python3"
    },
    "language_info": {
      "codemirror_mode": {
        "name": "ipython",
        "version": 3
      },
      "file_extension": ".py",
      "mimetype": "text/x-python",
      "name": "python",
      "nbconvert_exporter": "python",
      "pygments_lexer": "ipython3",
      "version": "3.12.4"
    }
  },
  "nbformat": 4,
  "nbformat_minor": 4
}
